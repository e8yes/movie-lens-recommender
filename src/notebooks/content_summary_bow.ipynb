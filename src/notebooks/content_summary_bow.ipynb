{
 "cells": [
  {
   "cell_type": "code",
   "execution_count": 200,
   "metadata": {},
   "outputs": [],
   "source": [
    "import json\n",
    "import matplotlib.pyplot as plt\n",
    "import nltk\n",
    "import numpy as np\n",
    "import re\n",
    "import string\n",
    "import sys\n",
    "import tensorflow as tf\n",
    "from autocorrect import Speller\n",
    "from nltk.corpus import stopwords\n",
    "from nltk.stem.porter import PorterStemmer\n",
    "from pyspark.sql import Row, functions\n",
    "from sklearn.manifold import TSNE\n",
    "from typing import Iterable"
   ]
  },
  {
   "cell_type": "code",
   "execution_count": 35,
   "metadata": {},
   "outputs": [],
   "source": [
    "sys.path.append(\"../../\")\n",
    "\n",
    "from src.ingestion.database.reader import *\n",
    "\n",
    "reader = IngestionReader(\n",
    "    db_host=\"127.0.0.1\", db_user=\"postgres\",\n",
    "    db_password=\"0f21e4cd-44f8-48ab-b112-62030d7f7df1\",\n",
    "    jdbc_driver_path=\"../../third_party/postgresql-42.5.0.jar\")\n"
   ]
  },
  {
   "cell_type": "code",
   "execution_count": 37,
   "metadata": {},
   "outputs": [],
   "source": [
    "contents = ReadContents(reader)\n",
    "\n",
    "# genome_scores = contents.select([\"genome_scores\"])\n",
    "\n",
    "# def TakeTagIds(row: Row) -> Iterable[Row]:\n",
    "#     relevances = json.loads(s=row[\"genome_scores\"])\n",
    "#     for tag_id, _ in relevances.items():\n",
    "#         yield Row(tag_id=int(tag_id))\n",
    "\n",
    "\n",
    "# all_genome_tags = genome_scores.rdd.\\\n",
    "#     flatMap(TakeTagIds).\\\n",
    "#     toDF().\\\n",
    "#     distinct().\\\n",
    "#     sort(\"tag_id\").\\\n",
    "#     cache()\n",
    "\n",
    "# all_genome_tags.\\\n",
    "#     coalesce(numPartitions=1).\\\n",
    "#     write.\\\n",
    "#         mode(saveMode=\"overwrite\").\\\n",
    "#         csv(path=\"./dict_genome_score\")\n",
    "\n",
    "# genome_tag_count = all_genome_tags.count()\n"
   ]
  },
  {
   "cell_type": "code",
   "execution_count": 3,
   "metadata": {},
   "outputs": [
    {
     "name": "stderr",
     "output_type": "stream",
     "text": [
      "                                                                                \r"
     ]
    }
   ],
   "source": [
    "tmdb_primary_info = contents.select([\"id\", \"tmdb_primary_info\"])\n",
    "\n",
    "def TakeSummary(row: Row) -> Iterable[Row]:\n",
    "    if row[\"tmdb_primary_info\"] is None:\n",
    "        return\n",
    "\n",
    "    info = json.loads(row[\"tmdb_primary_info\"])\n",
    "    if info is None or info[\"overview\"] is None:\n",
    "        return\n",
    "    \n",
    "    yield Row(id=row[\"id\"], summary=info[\"overview\"])\n",
    "\n",
    "tmdb_summaries = tmdb_primary_info.rdd.flatMap(TakeSummary).toDF().repartition(numPartitions=32)"
   ]
  },
  {
   "cell_type": "code",
   "execution_count": 3,
   "metadata": {},
   "outputs": [
    {
     "ename": "NameError",
     "evalue": "name 'nltk' is not defined",
     "output_type": "error",
     "traceback": [
      "\u001b[0;31m---------------------------------------------------------------------------\u001b[0m",
      "\u001b[0;31mNameError\u001b[0m                                 Traceback (most recent call last)",
      "Cell \u001b[0;32mIn [3], line 1\u001b[0m\n\u001b[0;32m----> 1\u001b[0m \u001b[43mnltk\u001b[49m\u001b[38;5;241m.\u001b[39mdata\u001b[38;5;241m.\u001b[39mpath\u001b[38;5;241m.\u001b[39mappend(\u001b[38;5;124m\"\u001b[39m\u001b[38;5;124m../../third_party/nltk_data\u001b[39m\u001b[38;5;124m\"\u001b[39m)\n\u001b[1;32m      5\u001b[0m \u001b[38;5;28;01mdef\u001b[39;00m \u001b[38;5;21mPreprocessCorpus\u001b[39m(row: Row) \u001b[38;5;241m-\u001b[39m\u001b[38;5;241m>\u001b[39m Row:\n\u001b[1;32m      6\u001b[0m     \u001b[38;5;66;03m# if \"../../third_party/nltk_data\" not in nltk.data.path:\u001b[39;00m\n\u001b[1;32m      7\u001b[0m     \u001b[38;5;66;03m#     nltk.data.path.append(\"../../third_party/nltk_data\")\u001b[39;00m\n\u001b[1;32m      8\u001b[0m     PUNCT \u001b[38;5;241m=\u001b[39m re\u001b[38;5;241m.\u001b[39mcompile(\u001b[38;5;124mr\u001b[39m\u001b[38;5;124m'\u001b[39m\u001b[38;5;124m[\u001b[39m\u001b[38;5;132;01m%s\u001b[39;00m\u001b[38;5;124m\\\u001b[39m\u001b[38;5;124ms‐‘’“”–—…]+\u001b[39m\u001b[38;5;124m'\u001b[39m \u001b[38;5;241m%\u001b[39m re\u001b[38;5;241m.\u001b[39mescape(string\u001b[38;5;241m.\u001b[39mpunctuation))\n",
      "\u001b[0;31mNameError\u001b[0m: name 'nltk' is not defined"
     ]
    }
   ],
   "source": [
    "nltk.data.path.append(\"../../third_party/nltk_data\")\n",
    "\n",
    "PUNCT = re.compile(r'[%s\\s‐‘’“”–—…]+' % re.escape(string.punctuation))\n",
    "STOP_WORDS = set(stopwords.words(\"english\"))\n",
    "\n",
    "def PreprocessCorpus(row: Row) -> Row:\n",
    "    # if \"../../third_party/nltk_data\" not in nltk.data.path:\n",
    "    #     nltk.data.path.append(\"../../third_party/nltk_data\")\n",
    "\n",
    "    result_list = list()\n",
    "\n",
    "    stemmer = PorterStemmer()\n",
    "    speller = Speller()\n",
    "\n",
    "    # words = nltk.tokenize.word_tokenize(row[\"summary\"])\n",
    "    words = PUNCT.split(row[\"summary\"])\n",
    "    for word in words:\n",
    "        word = word.lower()\n",
    "        word = speller.autocorrect_word(word)\n",
    "        if word == \"\" or word in STOP_WORDS:\n",
    "            continue\n",
    "\n",
    "        word = stemmer.stem(word)\n",
    "        \n",
    "        result_list.append(word)\n",
    "    \n",
    "    return Row(id=row[\"id\"], summary=result_list)\n",
    "\n",
    "\n",
    "clean_tmdb = tmdb_summaries.rdd.map(PreprocessCorpus).toDF()\n",
    "\n",
    "\n",
    "clean_tmdb.\\\n",
    "    write.\\\n",
    "    mode(saveMode=\"overwrite\").\\\n",
    "    json(path=\"./tmdb\")\n"
   ]
  },
  {
   "cell_type": "code",
   "execution_count": 4,
   "metadata": {},
   "outputs": [
    {
     "name": "stderr",
     "output_type": "stream",
     "text": [
      "                                                                                \r"
     ]
    }
   ],
   "source": [
    "clean_tmdb = reader.spark_session.read.json(path=\"tmdb\")\n",
    "\n",
    "\n",
    "def TakeWords(row: Row) -> Iterable[Row]:\n",
    "    for word in row[\"summary\"]:\n",
    "        yield Row(word=word)\n",
    "\n",
    "all_words: DataFrame = clean_tmdb.rdd.\\\n",
    "    flatMap(TakeWords).\\\n",
    "    toDF().\\\n",
    "    distinct().\\\n",
    "    sort(\"word\")\n",
    "\n",
    "all_words.coalesce(numPartitions=1).\\\n",
    "    write.\\\n",
    "    mode(saveMode=\"overwrite\").\\\n",
    "    csv(path=\"./dict_word\")\n"
   ]
  },
  {
   "cell_type": "code",
   "execution_count": 6,
   "metadata": {},
   "outputs": [],
   "source": [
    "clean_tmdb = reader.spark_session.read.json(path=\"tmdb\")\n",
    "\n",
    "def TermFrequencies(row: Row) -> Iterable[Row]:\n",
    "    word_freq = dict()\n",
    "    \n",
    "    for word in row[\"summary\"]:\n",
    "        if word not in word_freq:\n",
    "            word_freq[word] = 1.0\n",
    "        else:\n",
    "            word_freq[word] += 1.0\n",
    "    \n",
    "    for word in word_freq:\n",
    "        term_freq = word_freq[word] / len(word_freq)\n",
    "        yield Row(id=row[\"id\"], term=word, term_freq=term_freq)\n",
    "\n",
    "term_freqs = clean_tmdb.rdd.flatMap(TermFrequencies).toDF()\n"
   ]
  },
  {
   "cell_type": "code",
   "execution_count": 7,
   "metadata": {},
   "outputs": [
    {
     "name": "stderr",
     "output_type": "stream",
     "text": [
      "                                                                                \r"
     ]
    }
   ],
   "source": [
    "from pyspark.sql import Row, functions\n",
    "\n",
    "doc_count = term_freqs.select([\"id\"]).distinct().count()\n",
    "docs_freq = term_freqs.groupBy(\"term\").agg(functions.count_distinct(\"id\"))\n",
    "docs_freq = docs_freq.withColumn(colName=\"inv_doc_freq\",\n",
    "                                 col=functions.log2(doc_count / functions.col(\"count(id)\")))\n",
    "docs_freq = docs_freq.drop(\"count(id)\")"
   ]
  },
  {
   "cell_type": "code",
   "execution_count": 149,
   "metadata": {},
   "outputs": [
    {
     "name": "stderr",
     "output_type": "stream",
     "text": [
      "                                                                                \r"
     ]
    }
   ],
   "source": [
    "tf_idf = term_freqs.join(other=docs_freq, on=term_freqs[\"term\"] == docs_freq[\"term\"])\n",
    "tf_idf = tf_idf.drop(docs_freq[\"term\"])\n",
    "\n",
    "tf_idf = tf_idf.withColumn(colName=\"tf_idf\", col=tf_idf[\"term_freq\"] * tf_idf[\"inv_doc_freq\"])\n",
    "tf_idf = tf_idf.\\\n",
    "    select([\"id\", \"term\", \"term_freq\", \"tf_idf\"]).\\\n",
    "    sort([\"id\", \"tf_idf\", \"term_freq\", \"term\"],\n",
    "         ascending=[True, False, True])\n",
    "\n",
    "tf_idf.\\\n",
    "    coalesce(numPartitions=1).\\\n",
    "    write.mode(saveMode=\"overwrite\").\\\n",
    "    csv(path=\"tf_idf\")\n"
   ]
  },
  {
   "cell_type": "code",
   "execution_count": 267,
   "metadata": {},
   "outputs": [
    {
     "name": "stderr",
     "output_type": "stream",
     "text": [
      "                                                                                \r"
     ]
    }
   ],
   "source": [
    "weighted_term = tf_idf.\\\n",
    "    groupBy(\"term\").\\\n",
    "    agg(functions.max(\"tf_idf\")).\\\n",
    "    sort(\"max(tf_idf)\", ascending=False)\n",
    "\n",
    "weighted_term.\\\n",
    "    coalesce(numPartitions=1).\\\n",
    "    write.\\\n",
    "    mode(saveMode=\"overwrite\").\\\n",
    "    csv(path=\"weighted_term\")"
   ]
  },
  {
   "cell_type": "code",
   "execution_count": 150,
   "metadata": {},
   "outputs": [
    {
     "data": {
      "text/plain": [
       "33019"
      ]
     },
     "execution_count": 150,
     "metadata": {},
     "output_type": "execute_result"
    }
   ],
   "source": [
    "word_ind = 0\n",
    "word_to_ind = dict()\n",
    "for row in all_words.collect():\n",
    "    word_to_ind[row[\"word\"]] = word_ind\n",
    "    word_ind += 1\n",
    "\n",
    "len(word_to_ind)\n"
   ]
  },
  {
   "cell_type": "code",
   "execution_count": 151,
   "metadata": {},
   "outputs": [
    {
     "data": {
      "text/plain": [
       "57153"
      ]
     },
     "execution_count": 151,
     "metadata": {},
     "output_type": "execute_result"
    }
   ],
   "source": [
    "content_ids = clean_tmdb.select([\"id\"]).sort(\"id\").collect()\n",
    "\n",
    "content_ind = 0\n",
    "content_id_to_ind = dict()\n",
    "for row in content_ids:\n",
    "    content_id_to_ind[row[\"id\"]] = content_ind\n",
    "    content_ind += 1\n",
    "\n",
    "len(content_id_to_ind)\n"
   ]
  },
  {
   "cell_type": "code",
   "execution_count": 167,
   "metadata": {},
   "outputs": [
    {
     "data": {
      "text/plain": [
       "(57153, 33019)"
      ]
     },
     "execution_count": 167,
     "metadata": {},
     "output_type": "execute_result"
    }
   ],
   "source": [
    "from scipy.sparse import coo_matrix\n",
    "import numpy as np\n",
    "\n",
    "xs = list()\n",
    "ys = list()\n",
    "vs = list()\n",
    "\n",
    "for row in tf_idf.collect():\n",
    "    xs.append(content_id_to_ind[row[\"id\"]])\n",
    "    ys.append(word_to_ind[row[\"term\"]])\n",
    "    vs.append(row[\"tf_idf\"])\n",
    "\n",
    "a = coo_matrix((vs, (xs, ys)), dtype=np.float32)\n",
    "a.shape\n"
   ]
  },
  {
   "cell_type": "code",
   "execution_count": 255,
   "metadata": {},
   "outputs": [
    {
     "name": "stdout",
     "output_type": "stream",
     "text": [
      "[0.00629219 0.00125379 0.00188341 0.00168053 0.00153348 0.00137602\n",
      " 0.00135636 0.00126225 0.0012448  0.00120433 0.00116343 0.00115626\n",
      " 0.00112365 0.00112112 0.00110934 0.00107076 0.00104894 0.00103391\n",
      " 0.00102049 0.00098573 0.00097294 0.00096683 0.00096257 0.00094297\n",
      " 0.00092462 0.00090982 0.00090492 0.00089455 0.00088713 0.00087374\n",
      " 0.00086799 0.00086816 0.00086065 0.0008469  0.00083213 0.00083107\n",
      " 0.00081857 0.00081093 0.00080895 0.00079881 0.00079316 0.00077991\n",
      " 0.00077173 0.00076536 0.00076119 0.00075606 0.00075409 0.00074512\n",
      " 0.00074399 0.00073611 0.00072187 0.00071919 0.00071518 0.00071108\n",
      " 0.00070529 0.00069694 0.00069332 0.00068979 0.00068678 0.0006817\n",
      " 0.0006806  0.00067733 0.00067179 0.00066871 0.00066187 0.00066246\n",
      " 0.0006564  0.0006529  0.00064928 0.00064845 0.00064183 0.0006397\n",
      " 0.00063646 0.00063117 0.00062861 0.00062907 0.0006241  0.00061695\n",
      " 0.00061605 0.00061282 0.0006123  0.00060595 0.00060395 0.00059631\n",
      " 0.00059537 0.0005946  0.00059014 0.00058588 0.00058465 0.00058108\n",
      " 0.00057825 0.00057629 0.00057066 0.00057202 0.00056918 0.00056657\n",
      " 0.0005591  0.00055657 0.00055438 0.00055362]\n",
      "0.0866463\n"
     ]
    }
   ],
   "source": [
    "from sklearn.decomposition import TruncatedSVD\n",
    "\n",
    "pca_model = TruncatedSVD(n_components=100)\n",
    "u = pca_model.fit_transform(a)\n",
    "print(pca_model.explained_variance_ratio_)\n",
    "print(np.sum(pca_model.explained_variance_ratio_))\n"
   ]
  },
  {
   "cell_type": "code",
   "execution_count": 256,
   "metadata": {},
   "outputs": [
    {
     "data": {
      "text/plain": [
       "[<matplotlib.lines.Line2D at 0x7f1c29f2a9e0>]"
      ]
     },
     "execution_count": 256,
     "metadata": {},
     "output_type": "execute_result"
    },
    {
     "data": {
      "image/png": "[encoded data removed]",
      "text/plain": [
       "<Figure size 640x480 with 1 Axes>"
      ]
     },
     "metadata": {},
     "output_type": "display_data"
    }
   ],
   "source": [
    "s = pca_model.explained_variance_ratio_\n",
    "plt.plot(np.arange(stop=s.shape[0]), s*100)\n",
    "\n"
   ]
  },
  {
   "cell_type": "code",
   "execution_count": 170,
   "metadata": {},
   "outputs": [
    {
     "name": "stdout",
     "output_type": "stream",
     "text": [
      "0.44395918 0.08689446\n"
     ]
    }
   ],
   "source": [
    "word1 = vh[:, word_to_ind[\"love\"]]\n",
    "word2 = vh[:, word_to_ind[\"hate\"]]\n",
    "word3 = vh[:, word_to_ind[\"ador\"]]\n",
    "\n",
    "def CosineSim(a: np.ndarray, b: np.ndarray) -> np.float32:\n",
    "    return np.dot(a, b)/(np.sqrt(np.dot(a, a))*np.sqrt(np.dot(b, b)))\n",
    "\n",
    "\n",
    "x = CosineSim(a=word1, b=word2)\n",
    "y = CosineSim(a=word1, b=word3)\n",
    "\n",
    "print(x, y)\n"
   ]
  },
  {
   "cell_type": "code",
   "execution_count": 257,
   "metadata": {},
   "outputs": [
    {
     "data": {
      "text/plain": [
       "57153"
      ]
     },
     "execution_count": 257,
     "metadata": {},
     "output_type": "execute_result"
    }
   ],
   "source": [
    "genres = contents.select([\"id\", \"genres\"]).sort(\"id\")\n",
    "\n",
    "data_set = clean_tmdb.join(other=genres, on=clean_tmdb[\"id\"] == genres[\"id\"])\n",
    "data_set = data_set.select([genres[\"id\"], genres[\"genres\"]])\n",
    "\n",
    "data_count = data_set.count()\n",
    "data_count\n"
   ]
  },
  {
   "cell_type": "code",
   "execution_count": 258,
   "metadata": {},
   "outputs": [
    {
     "data": {
      "text/plain": [
       "20"
      ]
     },
     "execution_count": 258,
     "metadata": {},
     "output_type": "execute_result"
    }
   ],
   "source": [
    "genre_ind = 0\n",
    "genre_to_ind = dict()\n",
    "\n",
    "for row in data_set.collect():\n",
    "    for genre in row[\"genres\"]:\n",
    "        if genre not in genre_to_ind:\n",
    "            genre_to_ind[genre] = genre_ind\n",
    "            genre_ind += 1\n",
    "\n",
    "genre_count = len(genre_to_ind)\n",
    "genre_count\n"
   ]
  },
  {
   "cell_type": "code",
   "execution_count": 259,
   "metadata": {},
   "outputs": [],
   "source": [
    "xs = np.copy(u)\n",
    "ys = np.zeros(shape=(data_count, genre_count), dtype=np.float32)\n",
    "\n",
    "for row in data_set.collect():\n",
    "    c_ind = content_id_to_ind[row[\"id\"]]\n",
    "    for genre in row[\"genres\"]:\n",
    "        ys[c_ind, genre_to_ind[genre]] = 1\n"
   ]
  },
  {
   "cell_type": "code",
   "execution_count": 260,
   "metadata": {},
   "outputs": [],
   "source": [
    "x_train = xs[:int(data_count*0.8)]\n",
    "y_train = ys[:int(data_count*0.8)]\n",
    "\n",
    "x_test = xs[int(data_count*0.8):]\n",
    "y_test = ys[int(data_count*0.8):]\n"
   ]
  },
  {
   "cell_type": "code",
   "execution_count": 261,
   "metadata": {},
   "outputs": [
    {
     "name": "stderr",
     "output_type": "stream",
     "text": [
      "/usr/local/lib/python3.10/dist-packages/sklearn/manifold/_t_sne.py:800: FutureWarning: The default initialization in TSNE will change from 'random' to 'pca' in 1.2.\n",
      "  warnings.warn(\n",
      "/usr/local/lib/python3.10/dist-packages/sklearn/manifold/_t_sne.py:810: FutureWarning: The default learning rate in TSNE will change from 200.0 to 'auto' in 1.2.\n",
      "  warnings.warn(\n"
     ]
    },
    {
     "data": {
      "text/plain": [
       "(1000, 2)"
      ]
     },
     "execution_count": 261,
     "metadata": {},
     "output_type": "execute_result"
    }
   ],
   "source": [
    "ra = np.arange(stop=x_train.shape[0])\n",
    "np.random.shuffle(ra)\n",
    "\n",
    "tsne = TSNE()\n",
    "embedded_u = tsne.fit_transform(x_train[ra[:1000], :])\n",
    "embedded_u.shape\n"
   ]
  },
  {
   "cell_type": "code",
   "execution_count": 262,
   "metadata": {},
   "outputs": [
    {
     "data": {
      "text/plain": [
       "<matplotlib.collections.PathCollection at 0x7f1c2b35ab90>"
      ]
     },
     "execution_count": 262,
     "metadata": {},
     "output_type": "execute_result"
    },
    {
     "data": {
      "image/png": "[encoded data removed]",
      "text/plain": [
       "<Figure size 640x480 with 1 Axes>"
      ]
     },
     "metadata": {},
     "output_type": "display_data"
    }
   ],
   "source": [
    "y_train_class = np.zeros(shape=(embedded_u.shape[0]))\n",
    "for i in range(embedded_u.shape[0]):\n",
    "    genre = np.nonzero(y_train[ra[i], :])\n",
    "    y_train_class[i] = genre[0][0]\n",
    "\n",
    "plt.scatter(x=embedded_u[:, 0], y=embedded_u[:, 1], c=y_train_class, s=2.0)\n"
   ]
  },
  {
   "cell_type": "code",
   "execution_count": 253,
   "metadata": {},
   "outputs": [
    {
     "name": "stdout",
     "output_type": "stream",
     "text": [
      "Model: \"sequential_17\"\n",
      "_________________________________________________________________\n",
      " Layer (type)                Output Shape              Param #   \n",
      "=================================================================\n",
      " dense_26 (Dense)            (None, 20)                20020     \n",
      "                                                                 \n",
      "=================================================================\n",
      "Total params: 20,020\n",
      "Trainable params: 20,020\n",
      "Non-trainable params: 0\n",
      "_________________________________________________________________\n"
     ]
    }
   ],
   "source": [
    "model = tf.keras.Sequential(\n",
    "    layers=[tf.keras.layers.InputLayer(input_shape=(x_train.shape[1])),\n",
    "            tf.keras.layers.Dense(\n",
    "                units=y_train.shape[1],\n",
    "                activation=tf.keras.activations.sigmoid), ])\n",
    "\n",
    "model.compile(optimizer=tf.keras.optimizers.RMSprop(learning_rate=0.01), \n",
    "              loss=tf.keras.losses.binary_crossentropy)\n",
    "model.summary()"
   ]
  },
  {
   "cell_type": "code",
   "execution_count": 254,
   "metadata": {},
   "outputs": [
    {
     "name": "stdout",
     "output_type": "stream",
     "text": [
      "Epoch 1/20\n",
      "1429/1429 [==============================] - 1s 824us/step - loss: 0.2430 - val_loss: 0.1964\n",
      "Epoch 2/20\n",
      "1429/1429 [==============================] - 1s 774us/step - loss: 0.1968 - val_loss: 0.1949\n",
      "Epoch 3/20\n",
      "1429/1429 [==============================] - 1s 748us/step - loss: 0.1924 - val_loss: 0.1960\n",
      "Epoch 4/20\n",
      "1429/1429 [==============================] - 1s 796us/step - loss: 0.1907 - val_loss: 0.1972\n",
      "Epoch 5/20\n",
      "1429/1429 [==============================] - 1s 728us/step - loss: 0.1898 - val_loss: 0.1981\n",
      "Epoch 6/20\n",
      "1429/1429 [==============================] - 1s 796us/step - loss: 0.1893 - val_loss: 0.1989\n",
      "Epoch 7/20\n",
      "1429/1429 [==============================] - 1s 782us/step - loss: 0.1890 - val_loss: 0.1998\n",
      "Epoch 8/20\n",
      "1429/1429 [==============================] - 1s 764us/step - loss: 0.1887 - val_loss: 0.2001\n",
      "Epoch 9/20\n",
      "1429/1429 [==============================] - 1s 810us/step - loss: 0.1885 - val_loss: 0.1999\n",
      "Epoch 10/20\n",
      "1429/1429 [==============================] - 1s 770us/step - loss: 0.1884 - val_loss: 0.2014\n",
      "Epoch 11/20\n",
      "1429/1429 [==============================] - 1s 788us/step - loss: 0.1883 - val_loss: 0.2018\n",
      "Epoch 12/20\n",
      "1429/1429 [==============================] - 1s 779us/step - loss: 0.1882 - val_loss: 0.2021\n",
      "Epoch 13/20\n",
      "1429/1429 [==============================] - 1s 781us/step - loss: 0.1881 - val_loss: 0.2021\n",
      "Epoch 14/20\n",
      "1429/1429 [==============================] - 1s 749us/step - loss: 0.1881 - val_loss: 0.2019\n",
      "Epoch 15/20\n",
      "1429/1429 [==============================] - 1s 766us/step - loss: 0.1880 - val_loss: 0.2022\n",
      "Epoch 16/20\n",
      "1429/1429 [==============================] - 1s 780us/step - loss: 0.1880 - val_loss: 0.2029\n",
      "Epoch 17/20\n",
      "1429/1429 [==============================] - 1s 745us/step - loss: 0.1880 - val_loss: 0.2027\n",
      "Epoch 18/20\n",
      "1429/1429 [==============================] - 1s 755us/step - loss: 0.1879 - val_loss: 0.2029\n",
      "Epoch 19/20\n",
      "1429/1429 [==============================] - 1s 772us/step - loss: 0.1879 - val_loss: 0.2034\n",
      "Epoch 20/20\n",
      "1429/1429 [==============================] - 1s 780us/step - loss: 0.1879 - val_loss: 0.2033\n"
     ]
    },
    {
     "data": {
      "text/plain": [
       "<keras.callbacks.History at 0x7f1c2a6edd80>"
      ]
     },
     "execution_count": 254,
     "metadata": {},
     "output_type": "execute_result"
    }
   ],
   "source": [
    "model.fit(x=x_train, y=y_train, validation_data=(x_test, y_test), epochs=20)"
   ]
  },
  {
   "cell_type": "code",
   "execution_count": 189,
   "metadata": {},
   "outputs": [
    {
     "name": "stdout",
     "output_type": "stream",
     "text": [
      "358/358 [==============================] - 0s 474us/step\n"
     ]
    },
    {
     "data": {
      "text/plain": [
       "array([[3.57503799e-04, 2.61189193e-01, 8.42848644e-02, ...,\n",
       "        3.72637878e-04, 4.00217687e-06, 5.75548574e-06],\n",
       "       [1.17072530e-01, 1.22394547e-01, 1.68427855e-01, ...,\n",
       "        9.76075884e-03, 2.40285359e-02, 1.71689549e-04],\n",
       "       [2.60943938e-02, 3.46779257e-01, 1.06998295e-01, ...,\n",
       "        2.71551199e-02, 1.14048747e-02, 6.37129648e-04],\n",
       "       ...,\n",
       "       [7.38335168e-03, 2.92156249e-01, 3.06560576e-01, ...,\n",
       "        9.30018816e-03, 5.38036088e-03, 1.49444327e-01],\n",
       "       [3.90650451e-01, 2.70550072e-01, 1.20578073e-01, ...,\n",
       "        3.77505831e-02, 2.40749260e-03, 1.25722254e-05],\n",
       "       [3.46731424e-04, 3.46775949e-02, 2.73867369e-01, ...,\n",
       "        5.32414997e-05, 6.96786738e-05, 6.81853853e-05]], dtype=float32)"
      ]
     },
     "execution_count": 189,
     "metadata": {},
     "output_type": "execute_result"
    }
   ],
   "source": [
    "ypreds = model.predict(x=x_test)\n",
    "ypreds"
   ]
  },
  {
   "cell_type": "code",
   "execution_count": 191,
   "metadata": {},
   "outputs": [
    {
     "name": "stdout",
     "output_type": "stream",
     "text": [
      "Baseline: 0.9176143\n",
      "Model:    0.9229551\n"
     ]
    }
   ],
   "source": [
    "y_mean = np.mean(y_train, axis=0)\n",
    "\n",
    "print(\"Baseline:\", np.mean(tf.metrics.binary_accuracy(y_test, y_mean)))\n",
    "print(\"Model:   \", np.mean(tf.metrics.binary_accuracy(y_test, ypreds)))\n"
   ]
  }
 ],
 "metadata": {
  "kernelspec": {
   "display_name": "Python 3.10.7 64-bit",
   "language": "python",
   "name": "python3"
  },
  "language_info": {
   "codemirror_mode": {
    "name": "ipython",
    "version": 3
   },
   "file_extension": ".py",
   "mimetype": "text/x-python",
   "name": "python",
   "nbconvert_exporter": "python",
   "pygments_lexer": "ipython3",
   "version": "3.10.7"
  },
  "orig_nbformat": 4,
  "vscode": {
   "interpreter": {
    "hash": "916dbcbb3f70747c44a77c7bcd40155683ae19c65e1c03b4aa3499c5328201f1"
   }
  }
 },
 "nbformat": 4,
 "nbformat_minor": 2
}
