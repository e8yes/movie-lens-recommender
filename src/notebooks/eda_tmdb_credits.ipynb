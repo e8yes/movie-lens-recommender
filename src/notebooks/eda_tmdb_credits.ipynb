{
 "cells": [
  {
   "cell_type": "code",
   "execution_count": 2,
   "metadata": {},
   "outputs": [],
   "source": [
    "import json\n",
    "import matplotlib.pyplot as plt\n",
    "import nltk\n",
    "import numpy as np\n",
    "import re\n",
    "import string\n",
    "import sys\n",
    "from autocorrect import Speller\n",
    "from nltk.tokenize import word_tokenize\n",
    "from pyspark.sql import Row, functions, types\n",
    "from sklearn.manifold import TSNE\n",
    "from typing import Dict, List, Iterable, Tuple\n"
   ]
  },
  {
   "cell_type": "code",
   "execution_count": 3,
   "metadata": {},
   "outputs": [
    {
     "name": "stdout",
     "output_type": "stream",
     "text": [
      "22/11/13 22:49:36 WARN NativeCodeLoader: Unable to load native-hadoop library for your platform... using builtin-java classes where applicable\n"
     ]
    },
    {
     "name": "stderr",
     "output_type": "stream",
     "text": [
      "Setting default log level to \"WARN\".\n",
      "To adjust logging level use sc.setLogLevel(newLevel). For SparkR, use setLogLevel(newLevel).\n"
     ]
    }
   ],
   "source": [
    "sys.path.append(\"../../\")\n",
    "\n",
    "from src.ingestion.database.reader import *\n",
    "\n",
    "reader = IngestionReader(\n",
    "    db_host=\"127.0.0.1\", db_user=\"postgres\",\n",
    "    db_password=\"0f21e4cd-44f8-48ab-b112-62030d7f7df1\",\n",
    "    jdbc_driver_path=\"../../third_party/postgresql-42.5.0.jar\")\n"
   ]
  },
  {
   "cell_type": "code",
   "execution_count": 4,
   "metadata": {},
   "outputs": [
    {
     "name": "stderr",
     "output_type": "stream",
     "text": [
      "[Stage 2:>                                                          (0 + 1) / 1]\r"
     ]
    },
    {
     "name": "stdout",
     "output_type": "stream",
     "text": [
      "+-------+--------------------+\n",
      "|tmdb_id|        tmdb_credits|\n",
      "+-------+--------------------+\n",
      "|  91261|{\"id\": 91261, \"ca...|\n",
      "| 246743|{\"id\": 246743, \"c...|\n",
      "|  27563|{\"id\": 27563, \"ca...|\n",
      "|  87992|{\"id\": 87992, \"ca...|\n",
      "|   3764|{\"id\": 3764, \"cas...|\n",
      "|  11190|{\"id\": 11190, \"ca...|\n",
      "| 250622|{\"id\": 250622, \"c...|\n",
      "| 505481|{\"id\": 505481, \"c...|\n",
      "|  13723|{\"id\": 13723, \"ca...|\n",
      "| 110729|{\"id\": 110729, \"c...|\n",
      "|  28762|{\"id\": 28762, \"ca...|\n",
      "| 367056|{\"id\": 367056, \"c...|\n",
      "|  15173|{\"id\": 15173, \"ca...|\n",
      "|  16530|{\"id\": 16530, \"ca...|\n",
      "|  73273|{\"id\": 73273, \"ca...|\n",
      "| 531208|{\"id\": 531208, \"c...|\n",
      "|  23506|{\"id\": 23506, \"ca...|\n",
      "|  12568|{\"id\": 12568, \"ca...|\n",
      "| 163997|{\"id\": 163997, \"c...|\n",
      "|  11625|{\"id\": 11625, \"ca...|\n",
      "+-------+--------------------+\n",
      "only showing top 20 rows\n",
      "\n"
     ]
    },
    {
     "name": "stderr",
     "output_type": "stream",
     "text": [
      "                                                                                \r"
     ]
    }
   ],
   "source": [
    "contents = ReadContents(reader)\n",
    "\n",
    "credits = contents.\\\n",
    "    filter(contents[\"tmdb_id\"].isNotNull()).\\\n",
    "    filter(contents[\"tmdb_credits\"] != \"null\").\\\n",
    "    select([\"tmdb_id\", \"tmdb_credits\"])\n",
    "\n",
    "credits.show()\n"
   ]
  },
  {
   "cell_type": "markdown",
   "metadata": {},
   "source": [
    "Actor and crew composition"
   ]
  },
  {
   "cell_type": "code",
   "execution_count": 5,
   "metadata": {},
   "outputs": [
    {
     "name": "stderr",
     "output_type": "stream",
     "text": [
      "[Stage 14:>                                                         (0 + 1) / 1]\r"
     ]
    },
    {
     "name": "stdout",
     "output_type": "stream",
     "text": [
      "+-------+---------------+---------------+\n",
      "|tmdb_id|cast_department|crew_department|\n",
      "+-------+---------------+---------------+\n",
      "|  91261|         Acting|           null|\n",
      "|  91261|         Acting|           null|\n",
      "|  91261|      Directing|           null|\n",
      "|  91261|         Acting|           null|\n",
      "|  91261|         Acting|           null|\n",
      "|  91261|         Acting|           null|\n",
      "|  91261|         Acting|           null|\n",
      "|  91261|         Acting|           null|\n",
      "|  91261|         Acting|           null|\n",
      "|  91261|           null|            Art|\n",
      "|  91261|           null|         Camera|\n",
      "|  91261|           null|      Directing|\n",
      "|  91261|           null|        Writing|\n",
      "|  91261|           null|          Sound|\n",
      "|  91261|           null|     Production|\n",
      "|  91261|           null|        Editing|\n",
      "| 246743|         Acting|           null|\n",
      "| 246743|         Acting|           null|\n",
      "| 246743|         Acting|           null|\n",
      "| 246743|         Acting|           null|\n",
      "+-------+---------------+---------------+\n",
      "only showing top 20 rows\n",
      "\n"
     ]
    },
    {
     "name": "stderr",
     "output_type": "stream",
     "text": [
      "                                                                                \r"
     ]
    }
   ],
   "source": [
    "def ExtractDepartment(row: Row) -> Row:\n",
    "    c = json.loads(row[\"tmdb_credits\"])\n",
    "    casts = c[\"cast\"]\n",
    "    crews = c[\"crew\"]\n",
    "\n",
    "    for cast in casts:\n",
    "        if \"known_for_department\" not in cast:\n",
    "            continue\n",
    "\n",
    "        yield Row(tmdb_id=row[\"tmdb_id\"],\n",
    "                  cast_department=cast[\"known_for_department\"],\n",
    "                  crew_department=None)\n",
    "    \n",
    "    for crew in crews:\n",
    "        if \"known_for_department\" not in crew:\n",
    "            continue\n",
    "\n",
    "        yield Row(tmdb_id=row[\"tmdb_id\"],\n",
    "                  cast_department=None,\n",
    "                  crew_department=crew[\"known_for_department\"])\n",
    "\n",
    "content_departments = credits.\\\n",
    "    rdd.\\\n",
    "    flatMap(ExtractDepartment).\\\n",
    "    toDF()\n",
    "\n",
    "content_departments.show()\n"
   ]
  },
  {
   "cell_type": "code",
   "execution_count": 6,
   "metadata": {},
   "outputs": [
    {
     "name": "stderr",
     "output_type": "stream",
     "text": [
      "                                                                                \r"
     ]
    },
    {
     "data": {
      "text/plain": [
       "[Row(department='Acting'),\n",
       " Row(department='Actors'),\n",
       " Row(department='Art'),\n",
       " Row(department='Camera'),\n",
       " Row(department='Costume & Make-Up'),\n",
       " Row(department='Creator'),\n",
       " Row(department='Crew'),\n",
       " Row(department='Directing'),\n",
       " Row(department='Editing'),\n",
       " Row(department='Lighting'),\n",
       " Row(department='Production'),\n",
       " Row(department='Sound'),\n",
       " Row(department='Visual Effects'),\n",
       " Row(department='Writing')]"
      ]
     },
     "execution_count": 6,
     "metadata": {},
     "output_type": "execute_result"
    }
   ],
   "source": [
    "all_departments = content_departments.\\\n",
    "    select(\"cast_department\").withColumnRenamed(\"cast_department\", \"department\").\\\n",
    "    union(other=content_departments.select(\"crew_department\")).withColumnRenamed(\"crew_department\", \"department\").\\\n",
    "    distinct().\\\n",
    "    where(functions.col(\"department\").isNotNull()).\\\n",
    "    sort(\"department\")\n",
    "\n",
    "all_departments.collect()\n"
   ]
  },
  {
   "cell_type": "code",
   "execution_count": 7,
   "metadata": {},
   "outputs": [
    {
     "name": "stderr",
     "output_type": "stream",
     "text": [
      "[Stage 41:===================================================>    (12 + 1) / 13]\r"
     ]
    },
    {
     "name": "stdout",
     "output_type": "stream",
     "text": [
      "+-------+-----------------+----------------------+\n",
      "|tmdb_id|  crew_department|count(crew_department)|\n",
      "+-------+-----------------+----------------------+\n",
      "|      2|             null|                     0|\n",
      "|      2|           Acting|                     4|\n",
      "|      2|              Art|                     2|\n",
      "|      2|           Camera|                     5|\n",
      "|      2|Costume & Make-Up|                     1|\n",
      "|      2|             Crew|                     2|\n",
      "|      2|        Directing|                     5|\n",
      "|      2|          Editing|                     5|\n",
      "|      2|         Lighting|                     2|\n",
      "|      2|       Production|                     5|\n",
      "|      2|            Sound|                     4|\n",
      "|      3|             null|                     0|\n",
      "|      3|           Acting|                     2|\n",
      "|      3|              Art|                     1|\n",
      "|      3|           Camera|                     5|\n",
      "|      3|Costume & Make-Up|                     2|\n",
      "|      3|        Directing|                     4|\n",
      "|      3|          Editing|                     4|\n",
      "|      3|         Lighting|                     2|\n",
      "|      3|       Production|                     2|\n",
      "+-------+-----------------+----------------------+\n",
      "only showing top 20 rows\n",
      "\n"
     ]
    },
    {
     "name": "stderr",
     "output_type": "stream",
     "text": [
      "                                                                                \r"
     ]
    }
   ],
   "source": [
    "content_departments.\\\n",
    "    groupBy([\"tmdb_id\", \"crew_department\"]).\\\n",
    "    agg(functions.count(\"crew_department\")).\\\n",
    "    sort([\"tmdb_id\", \"crew_department\"]).\\\n",
    "    show()\n"
   ]
  },
  {
   "cell_type": "code",
   "execution_count": 8,
   "metadata": {},
   "outputs": [
    {
     "name": "stderr",
     "output_type": "stream",
     "text": [
      "                                                                                \r"
     ]
    }
   ],
   "source": [
    "content_actor_counts = content_departments.\\\n",
    "    groupBy(\"tmdb_id\").\\\n",
    "    agg(functions.count(\"cast_department\")).\\\n",
    "    sort(\"tmdb_id\").\\\n",
    "    collect()"
   ]
  },
  {
   "cell_type": "code",
   "execution_count": 9,
   "metadata": {},
   "outputs": [
    {
     "data": {
      "text/plain": [
       "array([38, 33, 25, ..., 16, 10,  1])"
      ]
     },
     "execution_count": 9,
     "metadata": {},
     "output_type": "execute_result"
    }
   ],
   "source": [
    "actor_counts = list()\n",
    "for row in content_actor_counts:\n",
    "    actor_counts.append(row[\"count(cast_department)\"])\n",
    "\n",
    "actor_counts = np.array(actor_counts)\n",
    "actor_counts\n"
   ]
  },
  {
   "cell_type": "code",
   "execution_count": 10,
   "metadata": {},
   "outputs": [
    {
     "name": "stdout",
     "output_type": "stream",
     "text": [
      "average #actors= 18.331906082195626\n",
      "median #actors= 14.0\n",
      "std #actors= 16.48086449832149\n"
     ]
    },
    {
     "data": {
      "text/plain": [
       "(array([1.0072e+04, 1.6627e+04, 1.1841e+04, 7.3010e+03, 3.5760e+03,\n",
       "        2.5630e+03, 1.6220e+03, 9.6200e+02, 8.0000e+02, 4.6600e+02,\n",
       "        3.4300e+02, 2.2300e+02, 1.4700e+02, 1.1500e+02, 6.8000e+01,\n",
       "        6.3000e+01, 4.3000e+01, 3.5000e+01, 3.0000e+01, 1.6000e+01,\n",
       "        1.9000e+01, 1.1000e+01, 6.0000e+00, 8.0000e+00, 4.0000e+00,\n",
       "        4.0000e+00, 2.0000e+00, 5.0000e+00, 3.0000e+00, 1.0000e+00,\n",
       "        1.0000e+00, 1.0000e+00, 1.0000e+00, 1.0000e+00, 1.0000e+00,\n",
       "        0.0000e+00, 1.0000e+00, 1.0000e+00, 0.0000e+00, 1.0000e+00,\n",
       "        0.0000e+00, 0.0000e+00, 0.0000e+00, 0.0000e+00, 0.0000e+00,\n",
       "        0.0000e+00, 0.0000e+00, 1.0000e+00, 0.0000e+00, 1.0000e+00]),\n",
       " array([  0. ,   6.6,  13.2,  19.8,  26.4,  33. ,  39.6,  46.2,  52.8,\n",
       "         59.4,  66. ,  72.6,  79.2,  85.8,  92.4,  99. , 105.6, 112.2,\n",
       "        118.8, 125.4, 132. , 138.6, 145.2, 151.8, 158.4, 165. , 171.6,\n",
       "        178.2, 184.8, 191.4, 198. , 204.6, 211.2, 217.8, 224.4, 231. ,\n",
       "        237.6, 244.2, 250.8, 257.4, 264. , 270.6, 277.2, 283.8, 290.4,\n",
       "        297. , 303.6, 310.2, 316.8, 323.4, 330. ]),\n",
       " <BarContainer object of 50 artists>)"
      ]
     },
     "execution_count": 10,
     "metadata": {},
     "output_type": "execute_result"
    },
    {
     "data": {
      "image/png": "[encoded data removed]",
      "text/plain": [
       "<Figure size 640x480 with 1 Axes>"
      ]
     },
     "metadata": {},
     "output_type": "display_data"
    }
   ],
   "source": [
    "print(\"average #actors=\", np.mean(actor_counts))\n",
    "print(\"median #actors=\", np.median(actor_counts))\n",
    "print(\"std #actors=\", np.std(actor_counts))\n",
    "\n",
    "plt.hist(x=actor_counts, bins=50)"
   ]
  },
  {
   "cell_type": "code",
   "execution_count": 11,
   "metadata": {},
   "outputs": [],
   "source": [
    "transformed_actor_counts = (actor_counts - np.mean(actor_counts))/np.std(actor_counts)"
   ]
  },
  {
   "cell_type": "code",
   "execution_count": 12,
   "metadata": {},
   "outputs": [
    {
     "data": {
      "text/plain": [
       "(array([1.0072e+04, 1.6627e+04, 1.1841e+04, 7.3010e+03, 4.0260e+03,\n",
       "        2.1130e+03, 1.6220e+03, 9.6200e+02, 8.0000e+02, 5.3800e+02,\n",
       "        2.7100e+02, 2.2300e+02, 1.4700e+02, 1.1500e+02, 6.8000e+01,\n",
       "        6.3000e+01, 4.3000e+01, 3.5000e+01, 3.0000e+01, 2.2000e+01,\n",
       "        1.3000e+01, 1.1000e+01, 6.0000e+00, 8.0000e+00, 4.0000e+00,\n",
       "        4.0000e+00, 2.0000e+00, 5.0000e+00, 3.0000e+00, 1.0000e+00,\n",
       "        1.0000e+00, 1.0000e+00, 1.0000e+00, 1.0000e+00, 1.0000e+00,\n",
       "        0.0000e+00, 1.0000e+00, 1.0000e+00, 0.0000e+00, 1.0000e+00,\n",
       "        0.0000e+00, 0.0000e+00, 0.0000e+00, 0.0000e+00, 0.0000e+00,\n",
       "        0.0000e+00, 0.0000e+00, 1.0000e+00, 0.0000e+00, 1.0000e+00]),\n",
       " array([-1.11231459, -0.71185016, -0.31138573,  0.0890787 ,  0.48954313,\n",
       "         0.89000756,  1.29047198,  1.69093641,  2.09140084,  2.49186527,\n",
       "         2.8923297 ,  3.29279413,  3.69325856,  4.09372299,  4.49418742,\n",
       "         4.89465185,  5.29511628,  5.69558071,  6.09604514,  6.49650957,\n",
       "         6.896974  ,  7.29743843,  7.69790286,  8.09836729,  8.49883172,\n",
       "         8.89929615,  9.29976058,  9.70022501, 10.10068943, 10.50115386,\n",
       "        10.90161829, 11.30208272, 11.70254715, 12.10301158, 12.50347601,\n",
       "        12.90394044, 13.30440487, 13.7048693 , 14.10533373, 14.50579816,\n",
       "        14.90626259, 15.30672702, 15.70719145, 16.10765588, 16.50812031,\n",
       "        16.90858474, 17.30904917, 17.7095136 , 18.10997803, 18.51044246,\n",
       "        18.91090689]),\n",
       " <BarContainer object of 50 artists>)"
      ]
     },
     "execution_count": 12,
     "metadata": {},
     "output_type": "execute_result"
    },
    {
     "data": {
      "image/png": "[encoded data removed]",
      "text/plain": [
       "<Figure size 640x480 with 1 Axes>"
      ]
     },
     "metadata": {},
     "output_type": "display_data"
    }
   ],
   "source": [
    "plt.hist(x=transformed_actor_counts, bins=50)\n"
   ]
  }
 ],
 "metadata": {
  "kernelspec": {
   "display_name": "Python 3.10.7 64-bit",
   "language": "python",
   "name": "python3"
  },
  "language_info": {
   "codemirror_mode": {
    "name": "ipython",
    "version": 3
   },
   "file_extension": ".py",
   "mimetype": "text/x-python",
   "name": "python",
   "nbconvert_exporter": "python",
   "pygments_lexer": "ipython3",
   "version": "3.10.7"
  },
  "orig_nbformat": 4,
  "vscode": {
   "interpreter": {
    "hash": "916dbcbb3f70747c44a77c7bcd40155683ae19c65e1c03b4aa3499c5328201f1"
   }
  }
 },
 "nbformat": 4,
 "nbformat_minor": 2
}
