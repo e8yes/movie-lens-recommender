{
 "cells": [
  {
   "cell_type": "code",
   "execution_count": 1,
   "id": "67f30fd9",
   "metadata": {},
   "outputs": [
    {
     "name": "stdout",
     "output_type": "stream",
     "text": [
      "22/10/25 15:58:55 WARN NativeCodeLoader: Unable to load native-hadoop library for your platform... using builtin-java classes where applicable\n"
     ]
    },
    {
     "name": "stderr",
     "output_type": "stream",
     "text": [
      "Setting default log level to \"WARN\".\n",
      "To adjust logging level use sc.setLogLevel(newLevel). For SparkR, use setLogLevel(newLevel).\n"
     ]
    }
   ],
   "source": [
    "import sys\n",
    "\n",
    "sys.path.append(\"../../\")\n",
    "\n",
    "from src.ingestion.database.reader import *\n",
    "\n",
    "reader = IngestionReader(db_host=\"127.0.0.1\", \n",
    "                         db_user=\"daviswen\", \n",
    "                         db_password=\"davis\",\n",
    "                         jdbc_driver_path=\"../../third_party/postgresql-42.5.0.jar\")"
   ]
  },
  {
   "cell_type": "code",
   "execution_count": 4,
   "id": "c361773e",
   "metadata": {},
   "outputs": [
    {
     "name": "stderr",
     "output_type": "stream",
     "text": [
      "[Stage 72:>                                                         (0 + 1) / 1]\r"
     ]
    },
    {
     "name": "stdout",
     "output_type": "stream",
     "text": [
      "Total number of users: active_user=283228 total=283228\n",
      "Total number of contents: rated_content=53889 total=58098\n",
      "Total number of ratings:  27753444\n"
     ]
    },
    {
     "name": "stderr",
     "output_type": "stream",
     "text": [
      "                                                                                \r"
     ]
    }
   ],
   "source": [
    "users = ReadUsers(reader)\n",
    "contents = ReadContents(reader)\n",
    "ratings = ReadRatingFeedbacks(reader)\n",
    "\n",
    "all_users = users.select([\"id\"])\n",
    "all_contents = contents.select([\"id\"])\n",
    "active_users = ratings.select([\"user_id\"]).distinct()\n",
    "rated_contents = ratings.select([\"content_id\"]).distinct()\n",
    "\n",
    "total_user_count = all_users.count()\n",
    "active_user_count = active_users.count()\n",
    "total_content_count = all_contents.count()\n",
    "rated_content_count = rated_contents.count()\n",
    "rating_count = ratings.count()\n",
    "\n",
    "print(\"Total number of users: active_user={0} total={1}\".format(active_user_count, total_user_count))\n",
    "print(\"Total number of contents: rated_content={0} total={1}\".format(rated_content_count, total_content_count))\n",
    "print(\"Total number of ratings: \", rating_count)"
   ]
  },
  {
   "cell_type": "code",
   "execution_count": 5,
   "id": "66bd384c",
   "metadata": {},
   "outputs": [
    {
     "name": "stdout",
     "output_type": "stream",
     "text": [
      "Potential user embeddings dimension:   23\n",
      "Potential movie embeddings dimension:  15\n"
     ]
    }
   ],
   "source": [
    "# Potential embeddings dimension based on the empirical ruleo of 4th root.\n",
    "user_embeddings_dimension = round(pow(active_user_count, 1.0/4.0))\n",
    "movie_embeddings_dimension = round(pow(rated_content_count, 1.0/4.0))\n",
    "\n",
    "print(\"Potential user embeddings dimension:  \", user_embeddings_dimension)\n",
    "print(\"Potential movie embeddings dimension: \", movie_embeddings_dimension)"
   ]
  },
  {
   "cell_type": "code",
   "execution_count": 6,
   "id": "37eb633a",
   "metadata": {},
   "outputs": [
    {
     "name": "stdout",
     "output_type": "stream",
     "text": [
      "Potential number of unknown embeddings variables:  7322579\n",
      "Total number of equations in the system:           22202755\n",
      "The ratio of equations to unknowns:                3.0320949763737612\n"
     ]
    }
   ],
   "source": [
    "# Assuming that movie features have to come entirely from a model, \n",
    "# this gives the total number of unknown variables in the system.\n",
    "system_unknowns = active_user_count*user_embeddings_dimension + rated_content_count*movie_embeddings_dimension\n",
    "\n",
    "# Assuming we use 80% of the data for training, the number of equations we will have is:\n",
    "system_equations = round(0.8*rating_count)\n",
    "\n",
    "print(\"Potential number of unknown embeddings variables: \", system_unknowns)\n",
    "print(\"Total number of equations in the system:          \", system_equations)\n",
    "print(\"The ratio of equations to unknowns:               \", system_equations/system_unknowns)"
   ]
  }
 ],
 "metadata": {
  "kernelspec": {
   "display_name": "Python 3 (ipykernel)",
   "language": "python",
   "name": "python3"
  },
  "language_info": {
   "codemirror_mode": {
    "name": "ipython",
    "version": 3
   },
   "file_extension": ".py",
   "mimetype": "text/x-python",
   "name": "python",
   "nbconvert_exporter": "python",
   "pygments_lexer": "ipython3",
   "version": "3.10.6"
  },
  "vscode": {
   "interpreter": {
    "hash": "aee8b7b246df8f9039afb4144a1f6fd8d2ca17a180786b69acc140d282b71a49"
   }
  }
 },
 "nbformat": 4,
 "nbformat_minor": 5
}
