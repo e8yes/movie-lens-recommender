{
 "cells": [
  {
   "cell_type": "code",
   "execution_count": null,
   "id": "91678c7e",
   "metadata": {},
   "outputs": [],
   "source": [
    "psycopg2"
   ]
  },
  {
   "cell_type": "code",
   "execution_count": 1,
   "id": "30545ddb",
   "metadata": {},
   "outputs": [
    {
     "ename": "ModuleNotFoundError",
     "evalue": "No module named 'psycopg2'",
     "output_type": "error",
     "traceback": [
      "\u001b[0;31m---------------------------------------------------------------------------\u001b[0m",
      "\u001b[0;31mModuleNotFoundError\u001b[0m                       Traceback (most recent call last)",
      "Cell \u001b[0;32mIn [1], line 2\u001b[0m\n\u001b[1;32m      1\u001b[0m \u001b[38;5;28;01mfrom\u001b[39;00m \u001b[38;5;21;01msrc\u001b[39;00m\u001b[38;5;21;01m.\u001b[39;00m\u001b[38;5;21;01mingestion\u001b[39;00m\u001b[38;5;21;01m.\u001b[39;00m\u001b[38;5;21;01mdatabase\u001b[39;00m\u001b[38;5;21;01m.\u001b[39;00m\u001b[38;5;21;01mreader\u001b[39;00m \u001b[38;5;28;01mimport\u001b[39;00m IngestionReaderInterface\n\u001b[0;32m----> 2\u001b[0m \u001b[38;5;28;01mfrom\u001b[39;00m \u001b[38;5;21;01msrc\u001b[39;00m\u001b[38;5;21;01m.\u001b[39;00m\u001b[38;5;21;01mingestion\u001b[39;00m\u001b[38;5;21;01m.\u001b[39;00m\u001b[38;5;21;01mdatabase\u001b[39;00m\u001b[38;5;21;01m.\u001b[39;00m\u001b[38;5;21;01mreader_psql\u001b[39;00m \u001b[38;5;28;01mimport\u001b[39;00m ConfigurePostgresSparkSession\n\u001b[1;32m      3\u001b[0m \u001b[38;5;28;01mfrom\u001b[39;00m \u001b[38;5;21;01msrc\u001b[39;00m\u001b[38;5;21;01m.\u001b[39;00m\u001b[38;5;21;01mingestion\u001b[39;00m\u001b[38;5;21;01m.\u001b[39;00m\u001b[38;5;21;01mdatabase\u001b[39;00m\u001b[38;5;21;01m.\u001b[39;00m\u001b[38;5;21;01mreader_psql\u001b[39;00m \u001b[38;5;28;01mimport\u001b[39;00m PostgresIngestionReader\n\u001b[1;32m      4\u001b[0m \u001b[38;5;28;01mfrom\u001b[39;00m \u001b[38;5;21;01mpyspark\u001b[39;00m\u001b[38;5;21;01m.\u001b[39;00m\u001b[38;5;21;01msql\u001b[39;00m \u001b[38;5;28;01mimport\u001b[39;00m SparkSession\n",
      "File \u001b[0;32m~/Documents/SFU/CMPT732/movie-lens-recommender/src/ingestion/database/reader_psql.py:1\u001b[0m\n\u001b[0;32m----> 1\u001b[0m \u001b[39mfrom\u001b[39;00m \u001b[39mpsycopg2\u001b[39;00m \u001b[39mimport\u001b[39;00m connect\n\u001b[1;32m      2\u001b[0m \u001b[39mfrom\u001b[39;00m \u001b[39mpyspark\u001b[39;00m\u001b[39m.\u001b[39;00m\u001b[39msql\u001b[39;00m \u001b[39mimport\u001b[39;00m DataFrame, SparkSession\n\u001b[1;32m      4\u001b[0m \u001b[39mfrom\u001b[39;00m \u001b[39msrc\u001b[39;00m\u001b[39m.\u001b[39;00m\u001b[39mingestion\u001b[39;00m\u001b[39m.\u001b[39;00m\u001b[39mdatabase\u001b[39;00m\u001b[39m.\u001b[39;00m\u001b[39mcommon\u001b[39;00m \u001b[39mimport\u001b[39;00m INGESTION_DATABASE\n",
      "\u001b[0;31mModuleNotFoundError\u001b[0m: No module named 'psycopg2'"
     ]
    }
   ],
   "source": [
    "from src.ingestion.database.reader import IngestionReaderInterface\n",
    "from src.ingestion.database.reader_psql import ConfigurePostgresSparkSession\n",
    "from src.ingestion.database.reader_psql import PostgresIngestionReader\n",
    "from pyspark.sql import SparkSession\n",
    "from pyspark.sql import functions as F\n",
    "from pyspark.sql import types as T\n",
    "from pyspark.sql.functions import array_contains, col, explode\n",
    "from pyspark.ml.feature import StringIndexer, VectorAssembler\n",
    "from pyspark.ml.linalg import SparseVector, DenseVector"
   ]
  },
  {
   "cell_type": "code",
   "execution_count": 6,
   "id": "b951ae91",
   "metadata": {},
   "outputs": [],
   "source": [
    "spark_builder = SparkSession.builder.appName(\"Jupyter\")\n",
    "spark_builder = ConfigurePostgresSparkSession(spark_builder)\n",
    "spark = spark_builder.getOrCreate()\n",
    "reader = PostgresIngestionReader(db_host=\"127.0.0.1\", db_user=\"minfei\", db_password=\"FM199601060046gg\", spark=spark)\n",
    "df = ReadContents(reader)"
   ]
  },
  {
   "cell_type": "code",
   "execution_count": 10,
   "id": "5c9e441f",
   "metadata": {},
   "outputs": [
    {
     "data": {
      "text/plain": [
       "Row(tmdb_primary_info='{\"id\": 399168, \"adult\": false, \"title\": \"The Mathematician and the Devil\", \"video\": false, \"budget\": 0, \"genres\": [{\"id\": 35, \"name\": \"Comedy\"}, {\"id\": 18, \"name\": \"Drama\"}, {\"id\": 14, \"name\": \"Fantasy\"}], \"status\": \"Released\", \"imdb_id\": \"tt3154916\", \"revenue\": 0, \"runtime\": 21, \"tagline\": \"\", \"homepage\": \"\", \"overview\": \"A mathematician offers to sell his soul to the devil for a proof or disproof of Fermat\\'s Last Theorem. Based on \\\\\"The Devil and Simon Flagg\\\\\" by Arthur Porges.\", \"popularity\": 0.6, \"vote_count\": 6, \"poster_path\": \"/5JCaWtCySRPy2JbHwgUAmYJBM8b.jpg\", \"release_date\": \"1972-06-06\", \"vote_average\": 8.3, \"backdrop_path\": null, \"original_title\": \"Математик и чёрт\", \"spoken_languages\": [{\"name\": \"Pусский\", \"iso_639_1\": \"ru\", \"english_name\": \"Russian\"}], \"original_language\": \"ru\", \"production_companies\": [{\"id\": 88367, \"name\": \"Centrnauchfilm\", \"logo_path\": \"/8BGGqyuaxijzhqzmrgdCINWbPhj.png\", \"origin_country\": \"SU\"}], \"production_countries\": [{\"name\": \"Soviet Union\", \"iso_3166_1\": \"SU\"}], \"belongs_to_collection\": null}')"
      ]
     },
     "execution_count": 10,
     "metadata": {},
     "output_type": "execute_result"
    }
   ],
   "source": [
    "df.select([\"tmdb_primary_info\"]).take(1)[0]\n",
    "\n",
    "# {\"id\": 399168, \"adult\": false, \"title\": \"The Mathematician and the Devil\", \"video\": false, \"budget\": 0, \"genres\": [{\"id\": 35, \"name\": \"Comedy\"}, {\"id\": 18, \"name\": \"Drama\"}, {\"id\": 14, \"name\": \"Fantasy\"}], \"status\": \"Released\", \"imdb_id\": \"tt3154916\", \"revenue\": 0, \"runtime\": 21, \"tagline\": \"\", \"homepage\": \"\", \"overview\": \"A mathematician offers to sell his soul to the devil for a proof or disproof of Fermat\\'s Last Theorem. Based on \\\\\"The Devil and Simon Flagg\\\\\" by Arthur Porges.\", \"popularity\": 0.6, \"vote_count\": 6, \"poster_path\": \"/5JCaWtCySRPy2JbHwgUAmYJBM8b.jpg\", \"release_date\": \"1972-06-06\", \"vote_average\": 8.3, \"backdrop_path\": null, \"original_title\": \"Математик и чёрт\", \"spoken_languages\": [{\"name\": \"Pусский\", \"iso_639_1\": \"ru\", \"english_name\": \"Russian\"}], \"original_language\": \"ru\", \"production_companies\": [{\"id\": 88367, \"name\": \"Centrnauchfilm\", \"logo_path\": \"/8BGGqyuaxijzhqzmrgdCINWbPhj.png\", \"origin_country\": \"SU\"}], \"production_countries\": [{\"name\": \"Soviet Union\", \"iso_3166_1\": \"SU\"}], \"belongs_to_collection\": null}'"
   ]
  },
  {
   "cell_type": "code",
   "execution_count": 142,
   "id": "66122202",
   "metadata": {},
   "outputs": [
    {
     "data": {
      "text/plain": [
       "[Row(tags='[{\"tag\": \"Bridget Terry\", \"timestamp_secs\": 1422435184}, {\"tag\": \"hollywood\", \"timestamp_secs\": 1526624492}, {\"tag\": \"biography\", \"timestamp_secs\": 1526624492}]')]"
      ]
     },
     "execution_count": 142,
     "metadata": {},
     "output_type": "execute_result"
    }
   ],
   "source": [
    "df.select(['tags']).take(1)"
   ]
  },
  {
   "cell_type": "code",
   "execution_count": 5,
   "id": "d424c529",
   "metadata": {},
   "outputs": [
    {
     "data": {
      "text/plain": [
       "[{'tag': 'Bridget Terry', 'timestamp_secs': 1422435184},\n",
       " {'tag': 'hollywood', 'timestamp_secs': 1526624492},\n",
       " {'tag': 'biography', 'timestamp_secs': 1526624492}]"
      ]
     },
     "execution_count": 5,
     "metadata": {},
     "output_type": "execute_result"
    }
   ],
   "source": [
    "import json\n",
    "\n",
    "json.loads(df.select(['tags']).take(1)[0][\"tags\"])\n"
   ]
  },
  {
   "cell_type": "code",
   "execution_count": 6,
   "id": "9519be04",
   "metadata": {},
   "outputs": [
    {
     "data": {
      "text/plain": [
       "{'tag': 'Bridget Terry', 'timestamp_secs': 1422435184}"
      ]
     },
     "execution_count": 6,
     "metadata": {},
     "output_type": "execute_result"
    }
   ],
   "source": [
    "json.loads(df.select(['tags']).take(1)[0][\"tags\"])[0]"
   ]
  },
  {
   "cell_type": "code",
   "execution_count": null,
   "id": "1731136f",
   "metadata": {},
   "outputs": [],
   "source": []
  },
  {
   "cell_type": "code",
   "execution_count": 7,
   "id": "8cb16cdd",
   "metadata": {},
   "outputs": [
    {
     "name": "stderr",
     "output_type": "stream",
     "text": [
      "\r\n",
      "[Stage 36:>                                                         (0 + 1) / 1]\r"
     ]
    },
    {
     "name": "stdout",
     "output_type": "stream",
     "text": [
      "+-------+----------+-------------------+------+\n",
      "|user_id|content_id|           rated_at|rating|\n",
      "+-------+----------+-------------------+------+\n",
      "|    784|         1|1999-10-13 20:34:04|   3.0|\n",
      "|   1063|         1|1996-05-19 08:56:11|   4.0|\n",
      "|   1117|         1|2004-11-12 07:42:09|   4.0|\n",
      "|   1210|         1|2016-03-11 02:17:21|   5.0|\n",
      "|     67|         1|2017-11-09 22:33:23|   4.0|\n",
      "|   1888|         1|2006-09-20 23:20:26|   4.5|\n",
      "|   1502|         1|2015-10-09 21:03:00|   5.0|\n",
      "|   2571|         1|2016-08-21 14:03:16|   4.0|\n",
      "|   1064|         1|2007-01-25 04:21:13|   3.5|\n",
      "|   1887|         1|1997-01-03 06:20:27|   5.0|\n",
      "|   1718|         1|1996-07-20 20:46:26|   5.0|\n",
      "|   2357|         1|2015-08-01 23:25:22|   3.0|\n",
      "|   2301|         1|2015-08-04 22:17:57|   4.0|\n",
      "|   4452|         1|1996-05-26 23:44:15|   5.0|\n",
      "|   4849|         1|2008-11-17 04:20:32|   4.0|\n",
      "|   2160|         1|2015-07-26 17:45:19|   3.0|\n",
      "|   5206|         1|2000-08-11 15:03:37|   5.0|\n",
      "|   5410|         1|2009-06-12 18:22:14|   4.5|\n",
      "|   5471|         1|2001-09-03 20:28:39|   5.0|\n",
      "|   4975|         1|1997-04-12 19:37:50|   4.0|\n",
      "+-------+----------+-------------------+------+\n",
      "only showing top 20 rows\n",
      "\n"
     ]
    },
    {
     "name": "stderr",
     "output_type": "stream",
     "text": [
      "\r\n",
      "                                                                                \r"
     ]
    }
   ],
   "source": [
    "rating_df = ReadRatingFeedbacks(reader)\n",
    "\n",
    "rating_df.where(rating_df[\"content_id\"] == 1).show()"
   ]
  },
  {
   "cell_type": "code",
   "execution_count": 126,
   "id": "9633c188",
   "metadata": {},
   "outputs": [
    {
     "name": "stdout",
     "output_type": "stream",
     "text": [
      "+--------------------+\n",
      "|       sparse_genres|\n",
      "+--------------------+\n",
      "|      (20,[5],[1.0])|\n",
      "|(20,[1,5],[1.0,1.0])|\n",
      "|      (20,[0],[1.0])|\n",
      "|      (20,[8],[1.0])|\n",
      "|(20,[8,9,15],[1.0...|\n",
      "|      (20,[0],[1.0])|\n",
      "|(20,[5,9],[1.0,1.0])|\n",
      "|(20,[1,17],[1.0,1...|\n",
      "|     (20,[17],[1.0])|\n",
      "|(20,[1,3,16],[1.0...|\n",
      "|      (20,[9],[1.0])|\n",
      "|(20,[3,15],[1.0,1...|\n",
      "|     (20,[19],[1.0])|\n",
      "|      (20,[1],[1.0])|\n",
      "|(20,[5,15],[1.0,1...|\n",
      "|(20,[1,2,8],[1.0,...|\n",
      "|(20,[1,2,5,15],[1...|\n",
      "|(20,[5,8],[1.0,1.0])|\n",
      "|(20,[8,15],[1.0,1...|\n",
      "|(20,[6,8,14],[1.0...|\n",
      "+--------------------+\n",
      "only showing top 20 rows\n",
      "\n"
     ]
    }
   ],
   "source": [
    "df_sep.show()"
   ]
  },
  {
   "cell_type": "code",
   "execution_count": 134,
   "id": "ea4a4c6d",
   "metadata": {
    "scrolled": false
   },
   "outputs": [
    {
     "name": "stdout",
     "output_type": "stream",
     "text": [
      "+------+--------------------+\n",
      "|    id|              genres|\n",
      "+------+--------------------+\n",
      "|156777|[0.0, 0.0, 0.0, 0...|\n",
      "| 26425|[0.0, 1.0, 0.0, 0...|\n",
      "|146366|[1.0, 0.0, 0.0, 0...|\n",
      "|  2996|[0.0, 0.0, 0.0, 0...|\n",
      "|185931|[0.0, 0.0, 0.0, 0...|\n",
      "|192859|[1.0, 0.0, 0.0, 0...|\n",
      "| 47774|[0.0, 0.0, 0.0, 0...|\n",
      "|115887|[0.0, 1.0, 0.0, 0...|\n",
      "|168774|[0.0, 0.0, 0.0, 0...|\n",
      "|167762|[0.0, 1.0, 0.0, 1...|\n",
      "|160696|[0.0, 0.0, 0.0, 0...|\n",
      "|177939|[0.0, 0.0, 0.0, 1...|\n",
      "| 77778|[0.0, 0.0, 0.0, 0...|\n",
      "|181541|[0.0, 1.0, 0.0, 0...|\n",
      "|127220|[0.0, 0.0, 0.0, 0...|\n",
      "|151410|[0.0, 1.0, 1.0, 0...|\n",
      "| 33679|[0.0, 1.0, 1.0, 0...|\n",
      "| 33603|[0.0, 0.0, 0.0, 0...|\n",
      "| 92307|[0.0, 0.0, 0.0, 0...|\n",
      "|155386|[0.0, 0.0, 0.0, 0...|\n",
      "+------+--------------------+\n",
      "only showing top 20 rows\n",
      "\n"
     ]
    },
    {
     "name": "stderr",
     "output_type": "stream",
     "text": [
      "\r\n",
      "[Stage 1203:>                                                       (0 + 1) / 1]\r\n",
      "\r\n",
      "                                                                                \r"
     ]
    }
   ],
   "source": [
    "df1 = df.select('id','genres')#.filter(df.id == '124861')\n",
    "# df1.first()['genres'] ##2 7 8\n",
    "genres_list = [x[0] for x in df1.select(explode(\"genres\").alias(\"genres\")).distinct().orderBy(\"genres\").collect()]\n",
    "df_sep = df1.select(\"*\" ,*[\n",
    "    array_contains(\"genres\", g).alias(\"g_{}\".format(g)).cast(\"integer\")\n",
    "    for g in genres_list]\n",
    ").drop('genres')\n",
    "#df_sep.show()\n",
    "selected_columns = [column for column in df_sep.columns if column.startswith(\"g_\")] \n",
    "assembler = VectorAssembler(inputCols=selected_columns, outputCol='sparse_genres')\n",
    "df_sep = assembler.transform(df_sep).select('id','sparse_genres')\n",
    "def sparse_to_array(v):\n",
    "    v = DenseVector(v)\n",
    "    new_array = list([float(x) for x in v])\n",
    "    return new_array\n",
    "\n",
    "sparse_to_array_udf = F.udf(sparse_to_array, T.ArrayType(T.FloatType()))\n",
    "res = df_sep.withColumn('genres', sparse_to_array_udf('sparse_genres')).select('id','genres')\n",
    "res.show()\n",
    "\n"
   ]
  },
  {
   "cell_type": "code",
   "execution_count": null,
   "id": "78f15d5a",
   "metadata": {},
   "outputs": [],
   "source": [
    "df1 = content_genres.select('id','cont')\n",
    "genres_list = [x[0] for x in df1.select(explode(\"genres\").alias(\"genres\")).distinct().orderBy(\"genres\").collect()]\n",
    "df_sep = df1.select(\"*\", *[\n",
    "    array_contains(\"genres\", g).alias(\"g_{}\".format(g)).cast(\"integer\")\n",
    "    for g in genres_list]\n",
    "    ).drop('genres')\n",
    "selected_columns = [column for column in df_sep.columns if column.startswith(\"g_\")] \n",
    "assembler = VectorAssembler(inputCols=selected_columns, outputCol='sparse_genres')\n",
    "df_sep = assembler.transform(df_sep).select('id','sparse_genres')\n",
    "def sparse_to_array(v):\n",
    "    v = DenseVector(v)\n",
    "    new_array = list([float(x) for x in v])\n",
    "    return new_array\n",
    "\n",
    "sparse_to_array_udf = F.udf(sparse_to_array, T.ArrayType(T.FloatType()))\n",
    "res = df_sep.withColumn('genres', sparse_to_array_udf('sparse_genres')).select('id','genres')\n",
    "return res"
   ]
  }
 ],
 "metadata": {
  "kernelspec": {
   "display_name": "Python 3.9.6 64-bit",
   "language": "python",
   "name": "python3"
  },
  "language_info": {
   "codemirror_mode": {
    "name": "ipython",
    "version": 3
   },
   "file_extension": ".py",
   "mimetype": "text/x-python",
   "name": "python",
   "nbconvert_exporter": "python",
   "pygments_lexer": "ipython3",
   "version": "3.9.6"
  },
  "vscode": {
   "interpreter": {
    "hash": "31f2aee4e71d21fbe5cf8b01ff0e069b9275f58929596ceb00d14d90e3e16cd6"
   }
  }
 },
 "nbformat": 4,
 "nbformat_minor": 5
}
