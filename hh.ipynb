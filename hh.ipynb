{
 "cells": [
  {
   "cell_type": "code",
   "execution_count": 182,
   "id": "30545ddb",
   "metadata": {},
   "outputs": [],
   "source": [
    "from src.ingestion.database.reader import IngestionReaderInterface\n",
    "from src.ingestion.database.reader_psql import ConfigurePostgresSparkSession\n",
    "from src.ingestion.database.reader_psql import PostgresIngestionReader\n",
    "from pyspark.sql import SparkSession\n",
    "from pyspark.sql.functions import from_json, col, schema_of_json, get_json_object\n",
    "from pyspark.sql import functions as F\n",
    "from pyspark.sql import types as T\n",
    "from src.ingestion.database.reader import ReadContents\n",
    "from src.ingestion.database.reader import ReadUsers\n",
    "from src.ingestion.database.reader import ReadRatingFeedbacks\n",
    "from pyspark.sql.functions import array_contains, col, explode, expr\n",
    "from pyspark.ml.feature import StringIndexer, VectorAssembler\n",
    "from pyspark.ml.linalg import SparseVector, DenseVector\n",
    "import json"
   ]
  },
  {
   "cell_type": "code",
   "execution_count": 9,
   "id": "b951ae91",
   "metadata": {},
   "outputs": [],
   "source": [
    "spark_builder = SparkSession.builder.appName(\"Jupyter\")\n",
    "spark_builder = ConfigurePostgresSparkSession(spark_builder)\n",
    "spark = spark_builder.getOrCreate()\n",
    "reader = PostgresIngestionReader(db_host=\"127.0.0.1\", db_user=\"minfei\", db_password=\"FM199601060046gg\", spark=spark)\n",
    "content = ReadContents(reader)\n",
    "user = ReadUsers(reader)\n",
    "rating = ReadRatingFeedbacks(reader)\n"
   ]
  },
  {
   "cell_type": "code",
   "execution_count": 203,
   "id": "5c9e441f",
   "metadata": {},
   "outputs": [
    {
     "data": {
      "text/plain": [
       "DataFrame[id: bigint, languages: array<string>]"
      ]
     },
     "execution_count": 203,
     "metadata": {},
     "output_type": "execute_result"
    }
   ],
   "source": [
    "# get the original_language of movies\n",
    "# tmdb = content.select([\"id\",\"tmdb_primary_info\"])\n",
    "# lan = tmdb.withColumn('orginal_language',\n",
    "#                    get_json_object('tmdb_primary_info', '$.original_language'))\n",
    "# lan.show(10)\n",
    "\n",
    "#get the original_language of movies\n",
    "tmdb = content.select([\"id\",\"tmdb_primary_info\"])\n",
    "lan = tmdb.withColumn('languages',\n",
    "                   get_json_object('tmdb_primary_info', '$.spoken_languages'))\n",
    "newdf= lan.withColumn('spoken_languages_all', F.from_json(\n",
    "        F.col('languages'),\n",
    "        T.ArrayType(T.StructType([\n",
    "            T.StructField('name', T.StringType()),\n",
    "            T.StructField('iso_639_1', T.StringType()),\n",
    "            T.StructField('english_name', T.StringType()),\n",
    "        ]))\n",
    "    ))\n",
    "newdf = newdf.select('id','spoken_languages_all')\n",
    "spoken_languages = newdf.withColumn('languages' , expr(\"transform(spoken_languages_all, x -> x['english_name'])\"))\n",
    "spoken_languages.select('id','languages')\n",
    "\n"
   ]
  },
  {
   "cell_type": "code",
   "execution_count": 234,
   "id": "49cfbe7c",
   "metadata": {},
   "outputs": [
    {
     "name": "stderr",
     "output_type": "stream",
     "text": [
      "                                                                                \r"
     ]
    },
    {
     "data": {
      "text/plain": [
       "[Row(id=191689, l_Abkhazian=0, l_Afar=0, l_Afrikaans=0, l_Akan=0, l_Albanian=0, l_Amharic=0, l_Arabic=0, l_Aragonese=0, l_Armenian=0, l_Assamese=0, l_Avaric=0, l_Aymara=0, l_Azerbaijani=0, l_Bambara=0, l_Bashkir=0, l_Basque=0, l_Belarusian=0, l_Bengali=0, l_Bislama=0, l_Bosnian=0, l_Breton=0, l_Bulgarian=0, l_Burmese=0, l_Cantonese=0, l_Catalan=0, l_Chechen=0, l_Chichewa; Nyanja=0, l_Cornish=0, l_Corsican=0, l_Cree=0, l_Croatian=0, l_Czech=0, l_Danish=0, l_Dutch=0, l_Dzongkha=0, l_English=0, l_Esperanto=0, l_Estonian=0, l_Ewe=0, l_Faroese=0, l_Finnish=0, l_French=0, l_Frisian=0, l_Fulah=0, l_Gaelic=0, l_Galician=0, l_Ganda=0, l_Georgian=0, l_German=0, l_Greek=0, l_Guarani=0, l_Gujarati=0, l_Haitian; Haitian Creole=0, l_Hausa=0, l_Hebrew=0, l_Hindi=0, l_Hungarian=0, l_Icelandic=0, l_Ido=0, l_Igbo=0, l_Indonesian=0, l_Inuktitut=0, l_Inupiaq=0, l_Irish=0, l_Italian=0, l_Japanese=0, l_Javanese=0, l_Kalaallisut=0, l_Kannada=0, l_Kazakh=0, l_Khmer=0, l_Kikuyu=0, l_Kinyarwanda=0, l_Kirghiz=0, l_Kongo=0, l_Korean=0, l_Kurdish=0, l_Lao=0, l_Latin=0, l_Latvian=0, l_Letzeburgesch=0, l_Lingala=0, l_Lithuanian=0, l_Macedonian=0, l_Malay=0, l_Malayalam=0, l_Maltese=0, l_Mandarin=0, l_Maori=0, l_Marathi=0, l_Marshall=0, l_Moldavian=0, l_Mongolian=0, l_Navajo=0, l_Nepali=0, l_No Language=0, l_Northern Sami=0, l_Norwegian=0, l_Norwegian Bokmål=0, l_Occitan=0, l_Pali=0, l_Persian=0, l_Polish=0, l_Portuguese=0, l_Punjabi=0, l_Pushto=0, l_Quechua=0, l_Raeto-Romance=0, l_Romanian=0, l_Russian=1, l_Samoan=0, l_Sango=0, l_Sanskrit=0, l_Sardinian=0, l_Serbian=0, l_Serbo-Croatian=0, l_Shona=0, l_Sinhalese=0, l_Slovak=0, l_Slovenian=0, l_Somali=0, l_Sotho=0, l_Spanish=0, l_Swahili=0, l_Swedish=0, l_Tagalog=0, l_Tahitian=0, l_Tajik=0, l_Tamil=0, l_Tatar=0, l_Telugu=0, l_Thai=0, l_Tibetan=0, l_Tigrinya=0, l_Tonga=0, l_Tswana=0, l_Turkish=0, l_Turkmen=0, l_Twi=0, l_Uighur=0, l_Ukrainian=0, l_Urdu=0, l_Uzbek=0, l_Vietnamese=0, l_Welsh=0, l_Wolof=0, l_Xhosa=0, l_Yiddish=0, l_Yoruba=0, l_Zulu=0),\n",
       " Row(id=147752, l_Abkhazian=0, l_Afar=0, l_Afrikaans=0, l_Akan=0, l_Albanian=0, l_Amharic=0, l_Arabic=1, l_Aragonese=0, l_Armenian=0, l_Assamese=0, l_Avaric=0, l_Aymara=0, l_Azerbaijani=0, l_Bambara=0, l_Bashkir=0, l_Basque=0, l_Belarusian=0, l_Bengali=1, l_Bislama=0, l_Bosnian=0, l_Breton=0, l_Bulgarian=0, l_Burmese=0, l_Cantonese=0, l_Catalan=0, l_Chechen=0, l_Chichewa; Nyanja=0, l_Cornish=0, l_Corsican=0, l_Cree=0, l_Croatian=0, l_Czech=0, l_Danish=0, l_Dutch=0, l_Dzongkha=0, l_English=0, l_Esperanto=0, l_Estonian=0, l_Ewe=0, l_Faroese=0, l_Finnish=0, l_French=0, l_Frisian=0, l_Fulah=0, l_Gaelic=0, l_Galician=0, l_Ganda=0, l_Georgian=0, l_German=0, l_Greek=1, l_Guarani=0, l_Gujarati=0, l_Haitian; Haitian Creole=0, l_Hausa=0, l_Hebrew=0, l_Hindi=0, l_Hungarian=0, l_Icelandic=0, l_Ido=0, l_Igbo=0, l_Indonesian=0, l_Inuktitut=0, l_Inupiaq=0, l_Irish=0, l_Italian=1, l_Japanese=0, l_Javanese=0, l_Kalaallisut=0, l_Kannada=0, l_Kazakh=0, l_Khmer=0, l_Kikuyu=0, l_Kinyarwanda=0, l_Kirghiz=0, l_Kongo=0, l_Korean=0, l_Kurdish=0, l_Lao=0, l_Latin=0, l_Latvian=0, l_Letzeburgesch=0, l_Lingala=0, l_Lithuanian=0, l_Macedonian=0, l_Malay=0, l_Malayalam=0, l_Maltese=0, l_Mandarin=0, l_Maori=0, l_Marathi=0, l_Marshall=0, l_Moldavian=0, l_Mongolian=0, l_Navajo=0, l_Nepali=0, l_No Language=0, l_Northern Sami=0, l_Norwegian=0, l_Norwegian Bokmål=0, l_Occitan=0, l_Pali=0, l_Persian=1, l_Polish=0, l_Portuguese=0, l_Punjabi=0, l_Pushto=0, l_Quechua=0, l_Raeto-Romance=0, l_Romanian=0, l_Russian=0, l_Samoan=0, l_Sango=0, l_Sanskrit=0, l_Sardinian=0, l_Serbian=0, l_Serbo-Croatian=0, l_Shona=0, l_Sinhalese=0, l_Slovak=0, l_Slovenian=0, l_Somali=0, l_Sotho=0, l_Spanish=0, l_Swahili=0, l_Swedish=0, l_Tagalog=0, l_Tahitian=0, l_Tajik=0, l_Tamil=0, l_Tatar=0, l_Telugu=0, l_Thai=0, l_Tibetan=0, l_Tigrinya=1, l_Tonga=0, l_Tswana=0, l_Turkish=0, l_Turkmen=0, l_Twi=0, l_Uighur=0, l_Ukrainian=0, l_Urdu=0, l_Uzbek=0, l_Vietnamese=0, l_Welsh=0, l_Wolof=1, l_Xhosa=0, l_Yiddish=0, l_Yoruba=0, l_Zulu=0),\n",
       " Row(id=154984, l_Abkhazian=0, l_Afar=0, l_Afrikaans=0, l_Akan=0, l_Albanian=0, l_Amharic=0, l_Arabic=0, l_Aragonese=0, l_Armenian=0, l_Assamese=0, l_Avaric=0, l_Aymara=0, l_Azerbaijani=0, l_Bambara=0, l_Bashkir=0, l_Basque=0, l_Belarusian=0, l_Bengali=0, l_Bislama=0, l_Bosnian=0, l_Breton=0, l_Bulgarian=0, l_Burmese=0, l_Cantonese=0, l_Catalan=0, l_Chechen=0, l_Chichewa; Nyanja=0, l_Cornish=0, l_Corsican=0, l_Cree=0, l_Croatian=0, l_Czech=0, l_Danish=0, l_Dutch=0, l_Dzongkha=0, l_English=0, l_Esperanto=0, l_Estonian=0, l_Ewe=0, l_Faroese=0, l_Finnish=0, l_French=0, l_Frisian=0, l_Fulah=0, l_Gaelic=0, l_Galician=0, l_Ganda=0, l_Georgian=0, l_German=0, l_Greek=0, l_Guarani=0, l_Gujarati=0, l_Haitian; Haitian Creole=0, l_Hausa=0, l_Hebrew=0, l_Hindi=0, l_Hungarian=0, l_Icelandic=0, l_Ido=0, l_Igbo=0, l_Indonesian=0, l_Inuktitut=0, l_Inupiaq=0, l_Irish=0, l_Italian=1, l_Japanese=0, l_Javanese=0, l_Kalaallisut=0, l_Kannada=0, l_Kazakh=0, l_Khmer=0, l_Kikuyu=0, l_Kinyarwanda=0, l_Kirghiz=0, l_Kongo=0, l_Korean=0, l_Kurdish=0, l_Lao=0, l_Latin=0, l_Latvian=0, l_Letzeburgesch=0, l_Lingala=0, l_Lithuanian=0, l_Macedonian=0, l_Malay=0, l_Malayalam=0, l_Maltese=0, l_Mandarin=0, l_Maori=0, l_Marathi=0, l_Marshall=0, l_Moldavian=0, l_Mongolian=0, l_Navajo=0, l_Nepali=0, l_No Language=0, l_Northern Sami=0, l_Norwegian=0, l_Norwegian Bokmål=0, l_Occitan=0, l_Pali=0, l_Persian=0, l_Polish=0, l_Portuguese=0, l_Punjabi=0, l_Pushto=0, l_Quechua=0, l_Raeto-Romance=0, l_Romanian=0, l_Russian=0, l_Samoan=0, l_Sango=0, l_Sanskrit=0, l_Sardinian=0, l_Serbian=0, l_Serbo-Croatian=0, l_Shona=0, l_Sinhalese=0, l_Slovak=0, l_Slovenian=0, l_Somali=0, l_Sotho=0, l_Spanish=0, l_Swahili=0, l_Swedish=0, l_Tagalog=0, l_Tahitian=0, l_Tajik=0, l_Tamil=0, l_Tatar=0, l_Telugu=0, l_Thai=0, l_Tibetan=0, l_Tigrinya=0, l_Tonga=0, l_Tswana=0, l_Turkish=0, l_Turkmen=0, l_Twi=0, l_Uighur=0, l_Ukrainian=0, l_Urdu=0, l_Uzbek=0, l_Vietnamese=0, l_Welsh=0, l_Wolof=0, l_Xhosa=0, l_Yiddish=0, l_Yoruba=0, l_Zulu=0),\n",
       " Row(id=132725, l_Abkhazian=0, l_Afar=0, l_Afrikaans=0, l_Akan=0, l_Albanian=0, l_Amharic=0, l_Arabic=0, l_Aragonese=0, l_Armenian=0, l_Assamese=0, l_Avaric=0, l_Aymara=0, l_Azerbaijani=0, l_Bambara=0, l_Bashkir=0, l_Basque=0, l_Belarusian=0, l_Bengali=0, l_Bislama=0, l_Bosnian=0, l_Breton=0, l_Bulgarian=0, l_Burmese=0, l_Cantonese=0, l_Catalan=0, l_Chechen=0, l_Chichewa; Nyanja=0, l_Cornish=0, l_Corsican=0, l_Cree=0, l_Croatian=0, l_Czech=0, l_Danish=0, l_Dutch=0, l_Dzongkha=0, l_English=1, l_Esperanto=0, l_Estonian=0, l_Ewe=0, l_Faroese=0, l_Finnish=0, l_French=0, l_Frisian=0, l_Fulah=0, l_Gaelic=0, l_Galician=0, l_Ganda=0, l_Georgian=0, l_German=0, l_Greek=0, l_Guarani=0, l_Gujarati=0, l_Haitian; Haitian Creole=0, l_Hausa=0, l_Hebrew=0, l_Hindi=0, l_Hungarian=0, l_Icelandic=0, l_Ido=0, l_Igbo=0, l_Indonesian=0, l_Inuktitut=0, l_Inupiaq=0, l_Irish=0, l_Italian=0, l_Japanese=0, l_Javanese=0, l_Kalaallisut=0, l_Kannada=0, l_Kazakh=0, l_Khmer=0, l_Kikuyu=0, l_Kinyarwanda=0, l_Kirghiz=0, l_Kongo=0, l_Korean=0, l_Kurdish=0, l_Lao=0, l_Latin=0, l_Latvian=0, l_Letzeburgesch=0, l_Lingala=0, l_Lithuanian=0, l_Macedonian=0, l_Malay=0, l_Malayalam=0, l_Maltese=0, l_Mandarin=0, l_Maori=0, l_Marathi=0, l_Marshall=0, l_Moldavian=0, l_Mongolian=0, l_Navajo=0, l_Nepali=0, l_No Language=0, l_Northern Sami=0, l_Norwegian=0, l_Norwegian Bokmål=0, l_Occitan=0, l_Pali=0, l_Persian=0, l_Polish=0, l_Portuguese=0, l_Punjabi=0, l_Pushto=0, l_Quechua=0, l_Raeto-Romance=0, l_Romanian=0, l_Russian=0, l_Samoan=0, l_Sango=0, l_Sanskrit=0, l_Sardinian=0, l_Serbian=0, l_Serbo-Croatian=0, l_Shona=0, l_Sinhalese=0, l_Slovak=0, l_Slovenian=0, l_Somali=0, l_Sotho=0, l_Spanish=1, l_Swahili=0, l_Swedish=0, l_Tagalog=0, l_Tahitian=0, l_Tajik=0, l_Tamil=0, l_Tatar=0, l_Telugu=0, l_Thai=0, l_Tibetan=0, l_Tigrinya=0, l_Tonga=0, l_Tswana=0, l_Turkish=0, l_Turkmen=0, l_Twi=0, l_Uighur=0, l_Ukrainian=0, l_Urdu=0, l_Uzbek=0, l_Vietnamese=0, l_Welsh=0, l_Wolof=0, l_Xhosa=0, l_Yiddish=0, l_Yoruba=0, l_Zulu=0),\n",
       " Row(id=164819, l_Abkhazian=None, l_Afar=None, l_Afrikaans=None, l_Akan=None, l_Albanian=None, l_Amharic=None, l_Arabic=None, l_Aragonese=None, l_Armenian=None, l_Assamese=None, l_Avaric=None, l_Aymara=None, l_Azerbaijani=None, l_Bambara=None, l_Bashkir=None, l_Basque=None, l_Belarusian=None, l_Bengali=None, l_Bislama=None, l_Bosnian=None, l_Breton=None, l_Bulgarian=None, l_Burmese=None, l_Cantonese=None, l_Catalan=None, l_Chechen=None, l_Chichewa; Nyanja=None, l_Cornish=None, l_Corsican=None, l_Cree=None, l_Croatian=None, l_Czech=None, l_Danish=None, l_Dutch=None, l_Dzongkha=None, l_English=None, l_Esperanto=None, l_Estonian=None, l_Ewe=None, l_Faroese=None, l_Finnish=None, l_French=None, l_Frisian=None, l_Fulah=None, l_Gaelic=None, l_Galician=None, l_Ganda=None, l_Georgian=None, l_German=None, l_Greek=None, l_Guarani=None, l_Gujarati=None, l_Haitian; Haitian Creole=None, l_Hausa=None, l_Hebrew=None, l_Hindi=None, l_Hungarian=None, l_Icelandic=None, l_Ido=None, l_Igbo=None, l_Indonesian=None, l_Inuktitut=None, l_Inupiaq=None, l_Irish=None, l_Italian=None, l_Japanese=None, l_Javanese=None, l_Kalaallisut=None, l_Kannada=None, l_Kazakh=None, l_Khmer=None, l_Kikuyu=None, l_Kinyarwanda=None, l_Kirghiz=None, l_Kongo=None, l_Korean=None, l_Kurdish=None, l_Lao=None, l_Latin=None, l_Latvian=None, l_Letzeburgesch=None, l_Lingala=None, l_Lithuanian=None, l_Macedonian=None, l_Malay=None, l_Malayalam=None, l_Maltese=None, l_Mandarin=None, l_Maori=None, l_Marathi=None, l_Marshall=None, l_Moldavian=None, l_Mongolian=None, l_Navajo=None, l_Nepali=None, l_No Language=None, l_Northern Sami=None, l_Norwegian=None, l_Norwegian Bokmål=None, l_Occitan=None, l_Pali=None, l_Persian=None, l_Polish=None, l_Portuguese=None, l_Punjabi=None, l_Pushto=None, l_Quechua=None, l_Raeto-Romance=None, l_Romanian=None, l_Russian=None, l_Samoan=None, l_Sango=None, l_Sanskrit=None, l_Sardinian=None, l_Serbian=None, l_Serbo-Croatian=None, l_Shona=None, l_Sinhalese=None, l_Slovak=None, l_Slovenian=None, l_Somali=None, l_Sotho=None, l_Spanish=None, l_Swahili=None, l_Swedish=None, l_Tagalog=None, l_Tahitian=None, l_Tajik=None, l_Tamil=None, l_Tatar=None, l_Telugu=None, l_Thai=None, l_Tibetan=None, l_Tigrinya=None, l_Tonga=None, l_Tswana=None, l_Turkish=None, l_Turkmen=None, l_Twi=None, l_Uighur=None, l_Ukrainian=None, l_Urdu=None, l_Uzbek=None, l_Vietnamese=None, l_Welsh=None, l_Wolof=None, l_Xhosa=None, l_Yiddish=None, l_Yoruba=None, l_Zulu=None)]"
      ]
     },
     "execution_count": 234,
     "metadata": {},
     "output_type": "execute_result"
    }
   ],
   "source": [
    "df_sep.take(5)"
   ]
  },
  {
   "cell_type": "code",
   "execution_count": 242,
   "id": "4ee6ea5b",
   "metadata": {},
   "outputs": [
    {
     "name": "stderr",
     "output_type": "stream",
     "text": [
      "                                                                                \r"
     ]
    },
    {
     "data": {
      "text/plain": [
       "[Row(id=191689, sparse_languages=SparseVector(150, {109: 1.0})),\n",
       " Row(id=147752, sparse_languages=SparseVector(150, {6: 1.0, 17: 1.0, 49: 1.0, 64: 1.0, 101: 1.0, 133: 1.0, 145: 1.0})),\n",
       " Row(id=154984, sparse_languages=SparseVector(150, {64: 1.0})),\n",
       " Row(id=132725, sparse_languages=SparseVector(150, {35: 1.0, 122: 1.0})),\n",
       " Row(id=174751, sparse_languages=SparseVector(150, {33: 1.0})),\n",
       " Row(id=127419, sparse_languages=SparseVector(150, {35: 1.0})),\n",
       " Row(id=136824, sparse_languages=SparseVector(150, {})),\n",
       " Row(id=25989, sparse_languages=SparseVector(150, {41: 1.0})),\n",
       " Row(id=156027, sparse_languages=SparseVector(150, {41: 1.0})),\n",
       " Row(id=160325, sparse_languages=SparseVector(150, {23: 1.0}))]"
      ]
     },
     "execution_count": 242,
     "metadata": {},
     "output_type": "execute_result"
    }
   ],
   "source": [
    "df1 = spoken_languages.select('id','languages')\n",
    "languages_list = [x[0] for x in df1.select(explode(\"languages\").alias(\"languages\")).distinct().orderBy(\"languages\").collect()]\n",
    "df_sep = df1.select(\"*\" ,*[\n",
    "    array_contains(\"languages\", lan).alias(\"l_{}\".format(lan)).cast(\"integer\")\n",
    "    for lan in languages_list]\n",
    ").drop('languages')\n",
    "selected_columns = [column for column in df_sep.columns if column.startswith(\"l_\")] \n",
    "assembler = VectorAssembler(inputCols=selected_columns, outputCol='sparse_languages',handleInvalid=\"skip\")\n",
    "\n",
    "df_sep1 = assembler.transform(df_sep).select('id','sparse_languages').na.fill(value = 0, subset=[\"sparse_languages\"])\n",
    "\n",
    "df_sep1.take(10)\n",
    "# def sparse_to_array(v):\n",
    "#     v = DenseVector(v)\n",
    "#     new_array = list([float(x) for x in v])\n",
    "#     return new_array\n",
    "# sparse_to_array_udf = F.udf(sparse_to_array, T.ArrayType(T.FloatType()))\n",
    "# res = df_sep.withColumn('languages', sparse_to_array_udf('sparse_languages')).select('id','languages')\n",
    "# res.first()\n",
    "# df_sep.show()\n"
   ]
  },
  {
   "cell_type": "code",
   "execution_count": 250,
   "id": "a36190f9",
   "metadata": {},
   "outputs": [
    {
     "name": "stderr",
     "output_type": "stream",
     "text": [
      "                                                                                \r"
     ]
    }
   ],
   "source": [
    "df1 = spoken_languages.select('id','languages')\n",
    "\n",
    "df1 = spoken_languages.select('id','languages')\n",
    "languages_list = [x[0] for x in df1.select(explode(\"languages\").alias(\"languages\")).distinct().orderBy(\"languages\").collect()]\n",
    "df_sep = df1.select(\"*\" ,*[\n",
    "    array_contains(\"languages\", lan).alias(\"l_{}\".format(lan)).cast(\"integer\")\n",
    "    for lan in languages_list]\n",
    ").drop('languages')\n",
    "selected_columns = [column for column in df_sep.columns if column.startswith(\"l_\")] \n",
    "assembler = VectorAssembler(inputCols=selected_columns, outputCol='sparse_languages',handleInvalid=\"skip\")\n",
    "\n",
    "df_sep1 = assembler.transform(df_sep).select('id','sparse_languages').na.fill(value = 0, subset=[\"sparse_languages\"])\n",
    "\n",
    "df_sep1.take(20)\n",
    "def sparse_to_array(v):\n",
    "    v = DenseVector(v)\n",
    "    new_array = list([float(x) for x in v])\n",
    "    return new_array\n",
    "sparse_to_array_udf = F.udf(sparse_to_array, T.ArrayType(T.FloatType()))\n",
    "res = df_sep1.withColumn('languages', sparse_to_array_udf('sparse_languages')).select('id','languages')\n",
    "#res.filter(res['id'] ==  147752) \n",
    "\n"
   ]
  },
  {
   "cell_type": "code",
   "execution_count": 200,
   "id": "66122202",
   "metadata": {},
   "outputs": [
    {
     "name": "stderr",
     "output_type": "stream",
     "text": [
      "                                                                                \r"
     ]
    },
    {
     "data": {
      "text/plain": [
       "[Row(id=191689, tmdb_primary_info='{\"id\": 399168, \"adult\": false, \"title\": \"The Mathematician and the Devil\", \"video\": false, \"budget\": 0, \"genres\": [{\"id\": 35, \"name\": \"Comedy\"}, {\"id\": 18, \"name\": \"Drama\"}, {\"id\": 14, \"name\": \"Fantasy\"}], \"status\": \"Released\", \"imdb_id\": \"tt3154916\", \"revenue\": 0, \"runtime\": 21, \"tagline\": \"\", \"homepage\": \"\", \"overview\": \"A mathematician offers to sell his soul to the devil for a proof or disproof of Fermat\\'s Last Theorem. Based on \\\\\"The Devil and Simon Flagg\\\\\" by Arthur Porges.\", \"popularity\": 0.6, \"vote_count\": 6, \"poster_path\": \"/5JCaWtCySRPy2JbHwgUAmYJBM8b.jpg\", \"release_date\": \"1972-06-06\", \"vote_average\": 8.3, \"backdrop_path\": null, \"original_title\": \"Математик и чёрт\", \"spoken_languages\": [{\"name\": \"Pусский\", \"iso_639_1\": \"ru\", \"english_name\": \"Russian\"}], \"original_language\": \"ru\", \"production_companies\": [{\"id\": 88367, \"name\": \"Centrnauchfilm\", \"logo_path\": \"/8BGGqyuaxijzhqzmrgdCINWbPhj.png\", \"origin_country\": \"SU\"}], \"production_countries\": [{\"name\": \"Soviet Union\", \"iso_3166_1\": \"SU\"}], \"belongs_to_collection\": null}')]"
      ]
     },
     "execution_count": 200,
     "metadata": {},
     "output_type": "execute_result"
    }
   ],
   "source": [
    "content.select([\"id\",\"tmdb_primary_info\"]).take(1)"
   ]
  },
  {
   "cell_type": "code",
   "execution_count": null,
   "id": "2821e706",
   "metadata": {},
   "outputs": [],
   "source": []
  },
  {
   "cell_type": "code",
   "execution_count": 6,
   "id": "9519be04",
   "metadata": {},
   "outputs": [
    {
     "data": {
      "text/plain": [
       "{'tag': 'Bridget Terry', 'timestamp_secs': 1422435184}"
      ]
     },
     "execution_count": 6,
     "metadata": {},
     "output_type": "execute_result"
    }
   ],
   "source": [
    "json.loads(df.select(['tags']).take(1)[0][\"tags\"])[0]"
   ]
  },
  {
   "cell_type": "code",
   "execution_count": 7,
   "id": "8cb16cdd",
   "metadata": {},
   "outputs": [
    {
     "name": "stderr",
     "output_type": "stream",
     "text": [
      "\r\n",
      "[Stage 36:>                                                         (0 + 1) / 1]\r"
     ]
    },
    {
     "name": "stdout",
     "output_type": "stream",
     "text": [
      "+-------+----------+-------------------+------+\n",
      "|user_id|content_id|           rated_at|rating|\n",
      "+-------+----------+-------------------+------+\n",
      "|    784|         1|1999-10-13 20:34:04|   3.0|\n",
      "|   1063|         1|1996-05-19 08:56:11|   4.0|\n",
      "|   1117|         1|2004-11-12 07:42:09|   4.0|\n",
      "|   1210|         1|2016-03-11 02:17:21|   5.0|\n",
      "|     67|         1|2017-11-09 22:33:23|   4.0|\n",
      "|   1888|         1|2006-09-20 23:20:26|   4.5|\n",
      "|   1502|         1|2015-10-09 21:03:00|   5.0|\n",
      "|   2571|         1|2016-08-21 14:03:16|   4.0|\n",
      "|   1064|         1|2007-01-25 04:21:13|   3.5|\n",
      "|   1887|         1|1997-01-03 06:20:27|   5.0|\n",
      "|   1718|         1|1996-07-20 20:46:26|   5.0|\n",
      "|   2357|         1|2015-08-01 23:25:22|   3.0|\n",
      "|   2301|         1|2015-08-04 22:17:57|   4.0|\n",
      "|   4452|         1|1996-05-26 23:44:15|   5.0|\n",
      "|   4849|         1|2008-11-17 04:20:32|   4.0|\n",
      "|   2160|         1|2015-07-26 17:45:19|   3.0|\n",
      "|   5206|         1|2000-08-11 15:03:37|   5.0|\n",
      "|   5410|         1|2009-06-12 18:22:14|   4.5|\n",
      "|   5471|         1|2001-09-03 20:28:39|   5.0|\n",
      "|   4975|         1|1997-04-12 19:37:50|   4.0|\n",
      "+-------+----------+-------------------+------+\n",
      "only showing top 20 rows\n",
      "\n"
     ]
    },
    {
     "name": "stderr",
     "output_type": "stream",
     "text": [
      "\r\n",
      "                                                                                \r"
     ]
    }
   ],
   "source": [
    "rating_df = ReadRatingFeedbacks(reader)\n",
    "\n",
    "rating_df.where(rating_df[\"content_id\"] == 1).show()"
   ]
  },
  {
   "cell_type": "code",
   "execution_count": 126,
   "id": "9633c188",
   "metadata": {},
   "outputs": [
    {
     "name": "stdout",
     "output_type": "stream",
     "text": [
      "+--------------------+\n",
      "|       sparse_genres|\n",
      "+--------------------+\n",
      "|      (20,[5],[1.0])|\n",
      "|(20,[1,5],[1.0,1.0])|\n",
      "|      (20,[0],[1.0])|\n",
      "|      (20,[8],[1.0])|\n",
      "|(20,[8,9,15],[1.0...|\n",
      "|      (20,[0],[1.0])|\n",
      "|(20,[5,9],[1.0,1.0])|\n",
      "|(20,[1,17],[1.0,1...|\n",
      "|     (20,[17],[1.0])|\n",
      "|(20,[1,3,16],[1.0...|\n",
      "|      (20,[9],[1.0])|\n",
      "|(20,[3,15],[1.0,1...|\n",
      "|     (20,[19],[1.0])|\n",
      "|      (20,[1],[1.0])|\n",
      "|(20,[5,15],[1.0,1...|\n",
      "|(20,[1,2,8],[1.0,...|\n",
      "|(20,[1,2,5,15],[1...|\n",
      "|(20,[5,8],[1.0,1.0])|\n",
      "|(20,[8,15],[1.0,1...|\n",
      "|(20,[6,8,14],[1.0...|\n",
      "+--------------------+\n",
      "only showing top 20 rows\n",
      "\n"
     ]
    }
   ],
   "source": [
    "df_sep.show()"
   ]
  },
  {
   "cell_type": "code",
   "execution_count": 134,
   "id": "ea4a4c6d",
   "metadata": {
    "scrolled": false
   },
   "outputs": [
    {
     "name": "stdout",
     "output_type": "stream",
     "text": [
      "+------+--------------------+\n",
      "|    id|              genres|\n",
      "+------+--------------------+\n",
      "|156777|[0.0, 0.0, 0.0, 0...|\n",
      "| 26425|[0.0, 1.0, 0.0, 0...|\n",
      "|146366|[1.0, 0.0, 0.0, 0...|\n",
      "|  2996|[0.0, 0.0, 0.0, 0...|\n",
      "|185931|[0.0, 0.0, 0.0, 0...|\n",
      "|192859|[1.0, 0.0, 0.0, 0...|\n",
      "| 47774|[0.0, 0.0, 0.0, 0...|\n",
      "|115887|[0.0, 1.0, 0.0, 0...|\n",
      "|168774|[0.0, 0.0, 0.0, 0...|\n",
      "|167762|[0.0, 1.0, 0.0, 1...|\n",
      "|160696|[0.0, 0.0, 0.0, 0...|\n",
      "|177939|[0.0, 0.0, 0.0, 1...|\n",
      "| 77778|[0.0, 0.0, 0.0, 0...|\n",
      "|181541|[0.0, 1.0, 0.0, 0...|\n",
      "|127220|[0.0, 0.0, 0.0, 0...|\n",
      "|151410|[0.0, 1.0, 1.0, 0...|\n",
      "| 33679|[0.0, 1.0, 1.0, 0...|\n",
      "| 33603|[0.0, 0.0, 0.0, 0...|\n",
      "| 92307|[0.0, 0.0, 0.0, 0...|\n",
      "|155386|[0.0, 0.0, 0.0, 0...|\n",
      "+------+--------------------+\n",
      "only showing top 20 rows\n",
      "\n"
     ]
    },
    {
     "name": "stderr",
     "output_type": "stream",
     "text": [
      "\r\n",
      "[Stage 1203:>                                                       (0 + 1) / 1]\r\n",
      "\r\n",
      "                                                                                \r"
     ]
    }
   ],
   "source": [
    "df1 = df.select('id','genres')#.filter(df.id == '124861')\n",
    "# df1.first()['genres'] ##2 7 8\n",
    "genres_list = [x[0] for x in df1.select(explode(\"genres\").alias(\"genres\")).distinct().orderBy(\"genres\").collect()]\n",
    "df_sep = df1.select(\"*\" ,*[\n",
    "    array_contains(\"genres\", g).alias(\"g_{}\".format(g)).cast(\"integer\")\n",
    "    for g in genres_list]\n",
    ").drop('genres')\n",
    "#df_sep.show()\n",
    "selected_columns = [column for column in df_sep.columns if column.startswith(\"g_\")] \n",
    "assembler = VectorAssembler(inputCols=selected_columns, outputCol='sparse_genres')\n",
    "df_sep = assembler.transform(df_sep).select('id','sparse_genres')\n",
    "def sparse_to_array(v):\n",
    "    v = DenseVector(v)\n",
    "    new_array = list([float(x) for x in v])\n",
    "    return new_array\n",
    "\n",
    "sparse_to_array_udf = F.udf(sparse_to_array, T.ArrayType(T.FloatType()))\n",
    "res = df_sep.withColumn('genres', sparse_to_array_udf('sparse_genres')).select('id','genres')\n",
    "res.show()\n",
    "\n"
   ]
  },
  {
   "cell_type": "code",
   "execution_count": null,
   "id": "78f15d5a",
   "metadata": {},
   "outputs": [],
   "source": [
    "df1 = content_genres.select('id','cont')\n",
    "genres_list = [x[0] for x in df1.select(explode(\"genres\").alias(\"genres\")).distinct().orderBy(\"genres\").collect()]\n",
    "df_sep = df1.select(\"*\", *[\n",
    "    array_contains(\"genres\", g).alias(\"g_{}\".format(g)).cast(\"integer\")\n",
    "    for g in genres_list]\n",
    "    ).drop('genres')\n",
    "selected_columns = [column for column in df_sep.columns if column.startswith(\"g_\")] \n",
    "assembler = VectorAssembler(inputCols=selected_columns, outputCol='sparse_genres')\n",
    "df_sep = assembler.transform(df_sep).select('id','sparse_genres')\n",
    "def sparse_to_array(v):\n",
    "    v = DenseVector(v)\n",
    "    new_array = list([float(x) for x in v])\n",
    "    return new_array\n",
    "\n",
    "sparse_to_array_udf = F.udf(sparse_to_array, T.ArrayType(T.FloatType()))\n",
    "res = df_sep.withColumn('genres', sparse_to_array_udf('sparse_genres')).select('id','genres')\n",
    "return res"
   ]
  }
 ],
 "metadata": {
  "kernelspec": {
   "display_name": "Python 3.9.12 ('base')",
   "language": "python",
   "name": "python3"
  },
  "language_info": {
   "codemirror_mode": {
    "name": "ipython",
    "version": 3
   },
   "file_extension": ".py",
   "mimetype": "text/x-python",
   "name": "python",
   "nbconvert_exporter": "python",
   "pygments_lexer": "ipython3",
   "version": "3.9.12"
  },
  "vscode": {
   "interpreter": {
    "hash": "182dc039c1c6b7e0a24e1f384b69321d9c97647171240a98af3adefbae772270"
   }
  }
 },
 "nbformat": 4,
 "nbformat_minor": 5
}
