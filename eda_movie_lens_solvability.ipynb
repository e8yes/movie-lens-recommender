{
 "cells": [
  {
   "cell_type": "code",
   "execution_count": 3,
   "id": "67f30fd9",
   "metadata": {},
   "outputs": [],
   "source": [
    "from datasets.movie_lens import MovieLensDataset\n",
    "\n",
    "dataset = MovieLensDataset()"
   ]
  },
  {
   "cell_type": "code",
   "execution_count": 4,
   "id": "c361773e",
   "metadata": {},
   "outputs": [
    {
     "name": "stdout",
     "output_type": "stream",
     "text": [
      "Total number of users:    283228\n",
      "Total number of movies:   53889\n",
      "Total number of ratings:  27753444\n"
     ]
    }
   ],
   "source": [
    "ratings = dataset.Ratings()\n",
    "\n",
    "all_ratings = ratings.DataFrame()\n",
    "unique_users = all_ratings[ratings.UserIdColumnName()].unique()\n",
    "unique_movies = all_ratings[ratings.MovieIdColumnName()].unique()\n",
    "\n",
    "user_count = unique_users.shape[0]\n",
    "movie_count = unique_movies.shape[0]\n",
    "rating_count = all_ratings.shape[0]\n",
    "\n",
    "print(\"Total number of users:   \", user_count)\n",
    "print(\"Total number of movies:  \", movie_count)\n",
    "print(\"Total number of ratings: \", rating_count)"
   ]
  },
  {
   "cell_type": "code",
   "execution_count": 5,
   "id": "66bd384c",
   "metadata": {},
   "outputs": [
    {
     "name": "stdout",
     "output_type": "stream",
     "text": [
      "Potential user embeddings dimension:   23\n",
      "Potential movie embeddings dimension:  15\n"
     ]
    }
   ],
   "source": [
    "# Potential embeddings dimension based on the empirical ruleo of 4th root.\n",
    "user_embeddings_dimension = round(pow(user_count, 1.0/4.0))\n",
    "movie_embeddings_dimension = round(pow(movie_count, 1.0/4.0))\n",
    "\n",
    "print(\"Potential user embeddings dimension:  \", user_embeddings_dimension)\n",
    "print(\"Potential movie embeddings dimension: \", movie_embeddings_dimension)"
   ]
  },
  {
   "cell_type": "code",
   "execution_count": 6,
   "id": "37eb633a",
   "metadata": {},
   "outputs": [
    {
     "name": "stdout",
     "output_type": "stream",
     "text": [
      "Potential number of unknown embeddings variables:  7322579\n",
      "Total number of equations in the system:           22202755\n",
      "The ratio of equations to unknowns:                3.0320949763737612\n"
     ]
    }
   ],
   "source": [
    "# Assuming that movie features have to come entirely from a model, \n",
    "# this gives the total number of unknown variables in the system.\n",
    "system_unknowns = user_count*user_embeddings_dimension + movie_count*movie_embeddings_dimension\n",
    "\n",
    "# Assuming we use 80% of the data for training, the number of equations we will have is:\n",
    "system_equations = round(0.8*rating_count)\n",
    "\n",
    "print(\"Potential number of unknown embeddings variables: \", system_unknowns)\n",
    "print(\"Total number of equations in the system:          \", system_equations)\n",
    "print(\"The ratio of equations to unknowns:               \", system_equations/system_unknowns)"
   ]
  },
  {
   "cell_type": "code",
   "execution_count": null,
   "id": "9bdaab89",
   "metadata": {},
   "outputs": [],
   "source": []
  }
 ],
 "metadata": {
  "kernelspec": {
   "display_name": "Python 3 (ipykernel)",
   "language": "python",
   "name": "python3"
  },
  "language_info": {
   "codemirror_mode": {
    "name": "ipython",
    "version": 3
   },
   "file_extension": ".py",
   "mimetype": "text/x-python",
   "name": "python",
   "nbconvert_exporter": "python",
   "pygments_lexer": "ipython3",
   "version": "3.10.4"
  }
 },
 "nbformat": 4,
 "nbformat_minor": 5
}
