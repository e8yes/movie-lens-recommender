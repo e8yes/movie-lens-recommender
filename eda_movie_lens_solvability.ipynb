{
 "cells": [
  {
   "cell_type": "code",
   "execution_count": 1,
   "id": "67f30fd9",
   "metadata": {},
   "outputs": [],
   "source": [
    "from datasets.movie_lens import MovieLensDataset\n",
    "\n",
    "dataset = MovieLensDataset()"
   ]
  },
  {
   "cell_type": "code",
   "execution_count": 2,
   "id": "c361773e",
   "metadata": {},
   "outputs": [
    {
     "name": "stdout",
     "output_type": "stream",
     "text": [
      "Total number of users:    283228\n",
      "Total number of movies:   53889\n",
      "Total number of ratings:  27753444\n"
     ]
    }
   ],
   "source": [
    "ratings = dataset.Ratings()\n",
    "\n",
    "all_ratings = ratings.DataFrame()\n",
    "unique_users = all_ratings[ratings.UserIdColumnName()].unique()\n",
    "unique_movies = all_ratings[ratings.MovieIdColumnName()].unique()\n",
    "\n",
    "user_count = unique_users.shape[0]\n",
    "movie_count = unique_movies.shape[0]\n",
    "rating_count = all_ratings.shape[0]\n",
    "\n",
    "print(\"Total number of users:   \", user_count)\n",
    "print(\"Total number of movies:  \", movie_count)\n",
    "print(\"Total number of ratings: \", rating_count)"
   ]
  },
  {
   "cell_type": "code",
   "execution_count": 3,
   "id": "66bd384c",
   "metadata": {},
   "outputs": [
    {
     "name": "stdout",
     "output_type": "stream",
     "text": [
      "Potential user embeddings dimension:   23\n",
      "Potential movie embeddings dimension:  15\n"
     ]
    }
   ],
   "source": [
    "# Potential embeddings dimension based on the empirical ruleo of 4th root.\n",
    "user_embeddings_dimension = round(pow(user_count, 1.0/4.0))\n",
    "movie_embeddings_dimension = round(pow(movie_count, 1.0/4.0))\n",
    "\n",
    "print(\"Potential user embeddings dimension:  \", user_embeddings_dimension)\n",
    "print(\"Potential movie embeddings dimension: \", movie_embeddings_dimension)"
   ]
  },
  {
   "cell_type": "code",
   "execution_count": 4,
   "id": "37eb633a",
   "metadata": {},
   "outputs": [
    {
     "name": "stdout",
     "output_type": "stream",
     "text": [
      "Potential number of unknown embeddings variables:  7322579\n",
      "Total number of equations in the system:           27753444\n",
      "The ratio of equations to unknowns:                3.7901187546081783\n"
     ]
    }
   ],
   "source": [
    "# Assuming that movie features have to come entirely from a model, \n",
    "# this gives the total number of unknown variables in the system.\n",
    "system_unknowns = user_count*user_embeddings_dimension + movie_count*movie_embeddings_dimension\n",
    "\n",
    "print(\"Potential number of unknown embeddings variables: \", system_unknowns)\n",
    "print(\"Total number of equations in the system:          \", rating_count)\n",
    "print(\"The ratio of equations to unknowns:               \", rating_count/system_unknowns)"
   ]
  },
  {
   "cell_type": "code",
   "execution_count": null,
   "id": "9bdaab89",
   "metadata": {},
   "outputs": [],
   "source": []
  }
 ],
 "metadata": {
  "kernelspec": {
   "display_name": "Python 3 (ipykernel)",
   "language": "python",
   "name": "python3"
  },
  "language_info": {
   "codemirror_mode": {
    "name": "ipython",
    "version": 3
   },
   "file_extension": ".py",
   "mimetype": "text/x-python",
   "name": "python",
   "nbconvert_exporter": "python",
   "pygments_lexer": "ipython3",
   "version": "3.10.4"
  }
 },
 "nbformat": 4,
 "nbformat_minor": 5
}
